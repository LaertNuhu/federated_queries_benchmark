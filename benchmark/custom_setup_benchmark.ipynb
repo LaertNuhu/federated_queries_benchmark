{
 "cells": [
  {
   "cell_type": "code",
   "execution_count": 1,
   "id": "3095768b",
   "metadata": {},
   "outputs": [
    {
     "name": "stdout",
     "output_type": "stream",
     "text": [
      "Requirement already satisfied: pathlib in /opt/conda/lib/python3.9/site-packages (1.0.1)\n",
      "Note: you may need to restart the kernel to use updated packages.\n",
      "Requirement already satisfied: jinja2 in /opt/conda/lib/python3.9/site-packages (2.11.3)\n",
      "Requirement already satisfied: MarkupSafe>=0.23 in /opt/conda/lib/python3.9/site-packages (from jinja2) (1.1.1)\n",
      "Note: you may need to restart the kernel to use updated packages.\n",
      "Collecting git+git://github.com/PythonicNinja/pydrill.git\n",
      "  Cloning git://github.com/PythonicNinja/pydrill.git to /tmp/pip-req-build-tvf8mf_r\n",
      "  Running command git clone -q git://github.com/PythonicNinja/pydrill.git /tmp/pip-req-build-tvf8mf_r\n",
      "Requirement already satisfied: requests in /opt/conda/lib/python3.9/site-packages (from pydrill==0.3.4) (2.25.1)\n",
      "Requirement already satisfied: chardet<5,>=3.0.2 in /opt/conda/lib/python3.9/site-packages (from requests->pydrill==0.3.4) (4.0.0)\n",
      "Requirement already satisfied: urllib3<1.27,>=1.21.1 in /opt/conda/lib/python3.9/site-packages (from requests->pydrill==0.3.4) (1.26.4)\n",
      "Requirement already satisfied: certifi>=2017.4.17 in /opt/conda/lib/python3.9/site-packages (from requests->pydrill==0.3.4) (2020.12.5)\n",
      "Requirement already satisfied: idna<3,>=2.5 in /opt/conda/lib/python3.9/site-packages (from requests->pydrill==0.3.4) (2.10)\n",
      "Note: you may need to restart the kernel to use updated packages.\n"
     ]
    }
   ],
   "source": [
    "%pip install pathlib\n",
    "%pip install jinja2\n",
    "%pip install git+git://github.com/PythonicNinja/pydrill.git"
   ]
  },
  {
   "cell_type": "code",
   "execution_count": 1,
   "id": "70781221",
   "metadata": {},
   "outputs": [
    {
     "name": "stdout",
     "output_type": "stream",
     "text": [
      "Requirement already satisfied: presto-python-client in /opt/conda/lib/python3.9/site-packages (0.7.0)\n",
      "Requirement already satisfied: requests in /opt/conda/lib/python3.9/site-packages (from presto-python-client) (2.25.1)\n",
      "Requirement already satisfied: six in /opt/conda/lib/python3.9/site-packages (from presto-python-client) (1.16.0)\n",
      "Requirement already satisfied: click in /opt/conda/lib/python3.9/site-packages (from presto-python-client) (7.1.2)\n",
      "Requirement already satisfied: chardet<5,>=3.0.2 in /opt/conda/lib/python3.9/site-packages (from requests->presto-python-client) (4.0.0)\n",
      "Requirement already satisfied: certifi>=2017.4.17 in /opt/conda/lib/python3.9/site-packages (from requests->presto-python-client) (2020.12.5)\n",
      "Requirement already satisfied: idna<3,>=2.5 in /opt/conda/lib/python3.9/site-packages (from requests->presto-python-client) (2.10)\n",
      "Requirement already satisfied: urllib3<1.27,>=1.21.1 in /opt/conda/lib/python3.9/site-packages (from requests->presto-python-client) (1.26.4)\n"
     ]
    }
   ],
   "source": [
    "!pip install presto-python-client"
   ]
  },
  {
   "cell_type": "code",
   "execution_count": 2,
   "id": "888693fc",
   "metadata": {},
   "outputs": [],
   "source": [
    "from pathlib import Path\n",
    "import jinja2\n",
    "import prestodb.dbapi as presto\n",
    "from pydrill.client import PyDrill\n",
    "import pandas as pd\n",
    "import time\n",
    "import requests\n",
    "from requests.adapters import HTTPAdapter\n",
    "from requests.packages.urllib3.util.retry import Retry"
   ]
  },
  {
   "cell_type": "code",
   "execution_count": 3,
   "id": "a956c563",
   "metadata": {},
   "outputs": [],
   "source": [
    "# configure sources\n",
    "sources={\n",
    "    \"li_source\":\"pg1\",\n",
    "    \"o_source\":\"pg2\",\n",
    "    \"c_source\":\"pg3\",\n",
    "    \"pa_source\":\"pg4\",\n",
    "    \"s_source\":\"pg1\",\n",
    "    \"ps_source\":\"pg2\",\n",
    "    \"n_source\":\"pg3\",\n",
    "    \"r_source\":\"pg4\",\n",
    "}\n",
    "\n",
    "def get_sources_config(scale,**kwargs):\n",
    "    \"\"\"Returns a dict with tabels maped to sources\"\"\"\n",
    "    mapped = {\n",
    "        \"lineitem\":f\"{kwargs['li_source']}.public.pg_{scale}_lineitem\",\n",
    "        \"orders\":f\"{kwargs['o_source']}.public.pg_{scale}_orders\",\n",
    "        \"customer\":f\"{kwargs['c_source']}.public.pg_{scale}_customer\",\n",
    "        \"part\":f\"{kwargs['pa_source']}.public.pg_{scale}_part\",\n",
    "        \"supplier\":f\"{kwargs['s_source']}.public.pg_{scale}_supplier\",\n",
    "        \"partsupp\":f\"{kwargs['ps_source']}.public.pg_{scale}_partsupp\",\n",
    "        \"nation\":f\"{kwargs['n_source']}.public.pg_{scale}_nation\",\n",
    "        \"region\":f\"{kwargs['r_source']}.public.pg_{scale}_region\"\n",
    "    }\n",
    "    return mapped\n",
    "\n",
    "\n",
    "config = get_sources_config(scale=\"sf1\",**sources)"
   ]
  },
  {
   "cell_type": "code",
   "execution_count": 8,
   "id": "c1116eb6",
   "metadata": {},
   "outputs": [
    {
     "data": {
      "text/plain": [
       "'/home/jovyan'"
      ]
     },
     "execution_count": 8,
     "metadata": {},
     "output_type": "execute_result"
    }
   ],
   "source": [
    "import os\n",
    "os.getcwd()"
   ]
  },
  {
   "cell_type": "code",
   "execution_count": 9,
   "id": "881d1da5",
   "metadata": {},
   "outputs": [
    {
     "name": "stdout",
     "output_type": "stream",
     "text": [
      "benchmark.ipynb  work\r\n"
     ]
    }
   ],
   "source": [
    "!ls"
   ]
  },
  {
   "cell_type": "code",
   "execution_count": 17,
   "id": "1035e6e4",
   "metadata": {},
   "outputs": [],
   "source": [
    "def get_queries():\n",
    "    return [q for q in Path(\"./queries\").iterdir()]\n",
    "\n",
    "def render_queries(sources_config,queries_path):\n",
    "    \"\"\"Returns a dict where the key is the tpch query name and the value is the rendered query\"\"\"\n",
    "    result = {}\n",
    "    for path in queries_path:\n",
    "        key = path.name.split(\".\")[0]\n",
    "        value = jinja2.Template(path.read_text()).render(**sources_config)\n",
    "        result[key]=value\n",
    "    return result\n",
    "\n",
    "query_dict = render_queries(sources_config=config,queries_path=get_queries())"
   ]
  },
  {
   "cell_type": "code",
   "execution_count": 18,
   "id": "6e6e667c",
   "metadata": {},
   "outputs": [],
   "source": [
    "class Presto():\n",
    "    def __init__(self,host=\"presto\",port=8080,user=\"demo\"):\n",
    "        self.conn = presto.Connection(host=\"presto\", port=8080, user=\"demo\")\n",
    "        self.cur = self.conn.cursor()\n",
    "    \n",
    "    def run_query(self,sql,show=False):\n",
    "        self.cur.execute(sql)\n",
    "        result = self.cur.fetchall()\n",
    "        if show:\n",
    "            return result"
   ]
  },
  {
   "cell_type": "code",
   "execution_count": 19,
   "id": "ce27ebd2",
   "metadata": {},
   "outputs": [],
   "source": [
    "class Drill(PyDrill):\n",
    "    def __init__(self,**kwargs):\n",
    "        PyDrill.__init__(self, **kwargs)\n",
    "        \n",
    "    def run_query(self,sql,timeout=100000,show=False):\n",
    "        if show:\n",
    "            return self.query(sql,timeout=timeout).to_dataframe()\n",
    "        return self.query(sql,timeout=timeout)"
   ]
  },
  {
   "cell_type": "code",
   "execution_count": 20,
   "id": "096a3118",
   "metadata": {},
   "outputs": [],
   "source": [
    "conn = presto.Connection(host=\"presto\", port=8080, user=\"demo\")\n",
    "cur = conn.cursor()"
   ]
  },
  {
   "cell_type": "code",
   "execution_count": 23,
   "id": "b4b1665b",
   "metadata": {},
   "outputs": [
    {
     "data": {
      "text/plain": [
       "<prestodb.client.PrestoResult at 0x7f9df00b0eb0>"
      ]
     },
     "execution_count": 23,
     "metadata": {},
     "output_type": "execute_result"
    }
   ],
   "source": [
    "cur.execute('''\n",
    " SELECT\n",
    "     l_orderkey,\n",
    "     sum(l_extendedprice * (1 - l_discount)) as revenue,\n",
    "     o_orderdate,\n",
    "     o_shippriority\n",
    " FROM\n",
    "     pg2.public.pg_sf1_customer,\n",
    "     pg3.public.pg_sf1_orders,\n",
    "     pg3.public.pg_sf1_lineitem\n",
    " WHERE\n",
    "     c_mktsegment = 'BUILDING'\n",
    "     AND c_custkey = o_custkey\n",
    "     AND l_orderkey = o_orderkey\n",
    "     AND o_orderdate < date '1995-03-15'\n",
    "     AND l_shipdate > date '1995-03-15'\n",
    " GROUP BY\n",
    "     l_orderkey,\n",
    "     o_orderdate,\n",
    "     o_shippriority\n",
    " ORDER BY\n",
    "     revenue desc,\n",
    "     o_orderdate\n",
    " LIMIT 10\n",
    " ''')"
   ]
  },
  {
   "cell_type": "code",
   "execution_count": 24,
   "id": "b49094a1",
   "metadata": {},
   "outputs": [],
   "source": [
    "presto_res = cur.fetchall()"
   ]
  },
  {
   "cell_type": "code",
   "execution_count": 25,
   "id": "fc706b9a",
   "metadata": {},
   "outputs": [],
   "source": [
    "presto_df = pd.DataFrame(presto_res,columns=[\"l_orderkey\",\"revenue\",\"o_orderdate\",\"o_shippriority\"])"
   ]
  },
  {
   "cell_type": "code",
   "execution_count": 26,
   "id": "54649501",
   "metadata": {},
   "outputs": [
    {
     "data": {
      "text/html": [
       "<div>\n",
       "<style scoped>\n",
       "    .dataframe tbody tr th:only-of-type {\n",
       "        vertical-align: middle;\n",
       "    }\n",
       "\n",
       "    .dataframe tbody tr th {\n",
       "        vertical-align: top;\n",
       "    }\n",
       "\n",
       "    .dataframe thead th {\n",
       "        text-align: right;\n",
       "    }\n",
       "</style>\n",
       "<table border=\"1\" class=\"dataframe\">\n",
       "  <thead>\n",
       "    <tr style=\"text-align: right;\">\n",
       "      <th></th>\n",
       "      <th>l_orderkey</th>\n",
       "      <th>revenue</th>\n",
       "      <th>o_orderdate</th>\n",
       "      <th>o_shippriority</th>\n",
       "    </tr>\n",
       "  </thead>\n",
       "  <tbody>\n",
       "    <tr>\n",
       "      <th>0</th>\n",
       "      <td>2456423</td>\n",
       "      <td>3249448.0888</td>\n",
       "      <td>1995-03-05</td>\n",
       "      <td>0</td>\n",
       "    </tr>\n",
       "    <tr>\n",
       "      <th>1</th>\n",
       "      <td>3459808</td>\n",
       "      <td>3246709.5912</td>\n",
       "      <td>1995-03-04</td>\n",
       "      <td>0</td>\n",
       "    </tr>\n",
       "    <tr>\n",
       "      <th>2</th>\n",
       "      <td>492164</td>\n",
       "      <td>3122592.4880</td>\n",
       "      <td>1995-02-19</td>\n",
       "      <td>0</td>\n",
       "    </tr>\n",
       "    <tr>\n",
       "      <th>3</th>\n",
       "      <td>1188320</td>\n",
       "      <td>3076303.4872</td>\n",
       "      <td>1995-03-09</td>\n",
       "      <td>0</td>\n",
       "    </tr>\n",
       "    <tr>\n",
       "      <th>4</th>\n",
       "      <td>2435712</td>\n",
       "      <td>3029384.4464</td>\n",
       "      <td>1995-02-26</td>\n",
       "      <td>0</td>\n",
       "    </tr>\n",
       "  </tbody>\n",
       "</table>\n",
       "</div>"
      ],
      "text/plain": [
       "   l_orderkey       revenue o_orderdate  o_shippriority\n",
       "0     2456423  3249448.0888  1995-03-05               0\n",
       "1     3459808  3246709.5912  1995-03-04               0\n",
       "2      492164  3122592.4880  1995-02-19               0\n",
       "3     1188320  3076303.4872  1995-03-09               0\n",
       "4     2435712  3029384.4464  1995-02-26               0"
      ]
     },
     "execution_count": 26,
     "metadata": {},
     "output_type": "execute_result"
    }
   ],
   "source": [
    "presto_df.head()"
   ]
  }
 ],
 "metadata": {
  "kernelspec": {
   "display_name": "Python 3",
   "language": "python",
   "name": "python3"
  },
  "language_info": {
   "codemirror_mode": {
    "name": "ipython",
    "version": 3
   },
   "file_extension": ".py",
   "mimetype": "text/x-python",
   "name": "python",
   "nbconvert_exporter": "python",
   "pygments_lexer": "ipython3",
   "version": "3.9.2"
  }
 },
 "nbformat": 4,
 "nbformat_minor": 5
}
