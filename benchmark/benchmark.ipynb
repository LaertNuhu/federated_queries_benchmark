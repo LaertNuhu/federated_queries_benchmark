{
 "cells": [
  {
   "cell_type": "markdown",
   "metadata": {},
   "source": [
    "## Connecting to Presto\n",
    "\n",
    "Presto ships with a CLI. Run `docker exec -it classroom-presto_presto_1 bin/presto-cli` do access it from the Presto container. the Presto CLI supports autocompletion, history, progress bars and other useful features. For quickly testing queries the CLI is very helpful.\n",
    "\n",
    "In a environment like a Jupyter notebook, we can use a Presto Python client. The Presto client library implements the Python DBAPI2.0 interface that is used by common database client libraries for querying MySQL, PostgreSQL and SQLite.\n",
    "\n",
    "DBAPI2.0 defines a API with a `Connection`. Queries then happen with a `cursor`. Presto supports transaction. The level of isolation depends on the connectors involved in a query.\n",
    "\n",
    "The three mandatory arguments to create a connection are *host*, *port*, and *user*.\n",
    "Other arguments such as *source* allow to identify the origin of the query. A common use case is to use it to tell which service, tool, or code sent the query.\n",
    "\n",
    "Let's create a connection:"
   ]
  },
  {
   "cell_type": "code",
   "execution_count": 28,
   "metadata": {},
   "outputs": [
    {
     "data": {
      "text/plain": [
       "<prestodb.dbapi.Cursor at 0x7f9d96c8cd90>"
      ]
     },
     "execution_count": 28,
     "metadata": {},
     "output_type": "execute_result"
    }
   ],
   "source": [
    "import prestodb.dbapi as presto\n",
    "from pydrill.client import PyDrill\n",
    "import pandas as pd\n",
    "\n",
    "drill = PyDrill(host='drill', port=8047)\n",
    "\n",
    "if not drill.is_active():\n",
    "    raise ValueError('Please run Drill first')\n",
    "\n",
    "conn = presto.Connection(host=\"presto\", port=8080, user=\"demo\")\n",
    "cur = conn.cursor()\n",
    "cur"
   ]
  },
  {
   "cell_type": "markdown",
   "metadata": {},
   "source": [
    "## Configuration\n",
    "\n",
    "Presto's general configuration is documented in the [deployment](https://prestodb.github.io/docs/current/installation/deployment.html) page. There are 4 types of configuration files:\n",
    "- Node Properties: to configure the coordinator (main server) and worker nodes.\n",
    "- JVM Config: command line options for the Java Virtual Machine that runs Presto.\n",
    "- Config Properties: configuration for the Presto server\n",
    "- Catalog Properties: configuration for Connectors (data sources)\n",
    "\n",
    "In the repository, the configuration is in `etc/`. The main file to configure Presto is `config.properties`:\n",
    "\n",
    "```\n",
    "coordinator=true\n",
    "node-scheduler.include-coordinator=true\n",
    "http-server.http.port=8080\n",
    "discovery-server.enabled=true\n",
    "discovery.uri=http://localhost:8080\n",
    "```\n",
    "\n",
    "The discovery is what allows worker nodes to find the coordinator and register themselves. Then they will participate in the execution of queries."
   ]
  },
  {
   "cell_type": "markdown",
   "metadata": {},
   "source": [
    "## Catalogs\n",
    "\n",
    "A catalog is mapped to a connector. The name of configuration file for a catalgo defines the catalog's name. Here `etc/catalog/mysql.properties` configures the `mysql` catalog. We could name it `events` or `users`:\n",
    "\n",
    "```\n",
    "connector.name=mysql\n",
    "connection-url=jdbc:mysql://mysql:3306\n",
    "connection-user=USER\n",
    "connection-password=PASSWORD\n",
    "```\n",
    "\n",
    "We did the same with `etc/catalog/mongodb.properties`:\n",
    "\n",
    "```\n",
    "connector.name=mongodb\n",
    "mongodb.seeds=mongodb\n",
    "```\n",
    "\n",
    "Adding a catalog is a simple as adding a file with the catalog properties and named after the catalog's name.\n",
    "\n",
    "\n",
    "Below we list the available catalogs on the Presto cluster we are running:"
   ]
  },
  {
   "cell_type": "code",
   "execution_count": 3,
   "metadata": {},
   "outputs": [
    {
     "data": {
      "text/plain": [
       "[['hive'], ['mongodb'], ['mysql'], ['system'], ['tcph']]"
      ]
     },
     "execution_count": 3,
     "metadata": {},
     "output_type": "execute_result"
    }
   ],
   "source": [
    "cur.execute(\"SHOW catalogs\")\n",
    "cur.fetchall()"
   ]
  },
  {
   "cell_type": "markdown",
   "metadata": {},
   "source": [
    "## How Does Presto Execute a Query?\n",
    "\n",
    "If you are curious about what Presto translate a SQL query to and what it will run, you can you `EXPLAIN`:"
   ]
  },
  {
   "cell_type": "code",
   "execution_count": 24,
   "metadata": {
    "scrolled": true
   },
   "outputs": [],
   "source": [
    "conn = presto.Connection(host=\"presto\", port=8080, user=\"demo\")\n",
    "cur = conn.cursor()\n",
    "cur.execute('''\n",
    "SELECT\n",
    "    l_orderkey,\n",
    "    sum(l_extendedprice * (1 - l_discount)) as revenue,\n",
    "    o_orderdate,\n",
    "    o_shippriority\n",
    "FROM\n",
    "    pg2.public.pg_sf1_customer,\n",
    "    pg3.public.pg_sf1_orders,\n",
    "    pg3.public.pg_sf1_lineitem\n",
    "WHERE\n",
    "    c_mktsegment = 'BUILDING'\n",
    "    AND c_custkey = o_custkey\n",
    "    AND l_orderkey = o_orderkey\n",
    "    AND o_orderdate < date '1995-03-15'\n",
    "    AND l_shipdate > date '1995-03-15'\n",
    "GROUP BY\n",
    "    l_orderkey,\n",
    "    o_orderdate,\n",
    "    o_shippriority\n",
    "ORDER BY\n",
    "    revenue desc,\n",
    "    o_orderdate\n",
    "LIMIT 10\n",
    "''')\n",
    "presto_res = cur.fetchall()"
   ]
  },
  {
   "cell_type": "code",
   "execution_count": 71,
   "metadata": {},
   "outputs": [
    {
     "data": {
      "text/plain": [
       "l_orderkey          int64\n",
       "revenue           float64\n",
       "o_orderdate        object\n",
       "o_shippriority      int64\n",
       "dtype: object"
      ]
     },
     "execution_count": 71,
     "metadata": {},
     "output_type": "execute_result"
    }
   ],
   "source": [
    "presto_df = pd.DataFrame(presto_res,columns=[\"l_orderkey\",\"revenue\",\"o_orderdate\",\"o_shippriority\"])\n",
    "presto_df[\"l_orderkey\"]=presto_df[\"l_orderkey\"].astype(int)\n",
    "presto_df[\"o_shippriority\"]=presto_df[\"o_shippriority\"].astype(int)\n",
    "presto_df[\"revenue\"]=presto_df[\"revenue\"].astype(float)\n",
    "presto_df.dtypes"
   ]
  },
  {
   "cell_type": "code",
   "execution_count": 32,
   "metadata": {},
   "outputs": [],
   "source": [
    "drill_res = drill.query('''SELECT\n",
    "    l_orderkey,\n",
    "    sum(l_extendedprice * (1 - l_discount)) as revenue,\n",
    "    o_orderdate,\n",
    "    o_shippriority\n",
    "FROM\n",
    "    pg2.public.pg_sf1_customer,\n",
    "    pg3.public.pg_sf1_orders,\n",
    "    pg3.public.pg_sf1_lineitem\n",
    "WHERE\n",
    "    c_mktsegment = 'BUILDING'\n",
    "    AND c_custkey = o_custkey\n",
    "    AND l_orderkey = o_orderkey\n",
    "    AND o_orderdate < date '1995-03-15'\n",
    "    AND l_shipdate > date '1995-03-15'\n",
    "GROUP BY\n",
    "    l_orderkey,\n",
    "    o_orderdate,\n",
    "    o_shippriority\n",
    "ORDER BY\n",
    "    revenue desc,\n",
    "    o_orderdate\n",
    "LIMIT 10''', timeout=1000)"
   ]
  },
  {
   "cell_type": "code",
   "execution_count": 72,
   "metadata": {},
   "outputs": [
    {
     "data": {
      "text/plain": [
       "revenue           float64\n",
       "o_orderdate        object\n",
       "l_orderkey          int64\n",
       "o_shippriority      int64\n",
       "dtype: object"
      ]
     },
     "execution_count": 72,
     "metadata": {},
     "output_type": "execute_result"
    }
   ],
   "source": [
    "drill_df = results.to_dataframe()\n",
    "drill_df[\"l_orderkey\"]=presto_df[\"l_orderkey\"].astype(int)\n",
    "drill_df[\"o_shippriority\"]=presto_df[\"o_shippriority\"].astype(int)\n",
    "drill_df[\"revenue\"]=presto_df[\"revenue\"].astype(float)\n",
    "drill_df.dtypes"
   ]
  },
  {
   "cell_type": "code",
   "execution_count": 58,
   "metadata": {},
   "outputs": [
    {
     "data": {
      "text/plain": [
       "False"
      ]
     },
     "execution_count": 58,
     "metadata": {},
     "output_type": "execute_result"
    }
   ],
   "source": [
    "presto_df.equals(drill_df)"
   ]
  },
  {
   "cell_type": "code",
   "execution_count": null,
   "metadata": {},
   "outputs": [],
   "source": []
  },
  {
   "cell_type": "code",
   "execution_count": 79,
   "metadata": {},
   "outputs": [],
   "source": [
    "m = presto_df.merge(drill_df, how='outer', indicator=True)\n",
    "assert len(m[m[\"_merge\"]!=\"both\"]) == 0"
   ]
  },
  {
   "cell_type": "markdown",
   "metadata": {},
   "source": [
    "Here we asked Presto to return the query plan in graphviz format.\n",
    "\n",
    "Each box is a *stage* and the boundaries delimit when Presto has to exchange data between nodes."
   ]
  },
  {
   "cell_type": "markdown",
   "metadata": {},
   "source": [
    "## Create a Table in MySQL\n",
    "\n",
    "Let's use the MySQL client to create the table. Then we will switch to Presto to manipulate the data:"
   ]
  },
  {
   "cell_type": "code",
   "execution_count": null,
   "metadata": {},
   "outputs": [],
   "source": [
    "import MySQLdb\n",
    "\n",
    "mysql = MySQLdb.connect(host=\"mysql\", user=\"root\", passwd=\"mysql\")\n",
    "cur = mysql.cursor()\n",
    "cur.execute(\"CREATE DATABASE IF NOT EXISTS presto\")\n",
    "cur.fetchall()\n",
    "cur.execute(\"\"\"\n",
    "    CREATE TABLE IF NOT EXISTS presto.events (event LONGTEXT)\n",
    "    CHARSET utf8mb4 ENGINE=InnoDB\n",
    "\"\"\")\n",
    "cur.fetchall()\n",
    "cur.execute(\"DESC presto.events\")\n",
    "for row in cur.fetchall():\n",
    "    print(\"{table}: [{props}]\".format(\n",
    "        table=row[0],\n",
    "        props=', '.join(str(i) for i in row[1:])))"
   ]
  },
  {
   "cell_type": "markdown",
   "metadata": {},
   "source": [
    "## Load Data in MySQL\n",
    "\n",
    "Let's now load data from [GH Archive](http://www.gharchive.org/) into MySQL and MongoDB.\n",
    "Each file from GH Archive contains lines of JSON structs that represent events from the public GitHub timeline, for example repository creation or code push.\n",
    "\n",
    "Now that the table is create in MySQL, we can insert rows with Presto by using the existing `conn` object created above. You can open http://localhost:8080 to see the execution Presto queries."
   ]
  },
  {
   "cell_type": "code",
   "execution_count": null,
   "metadata": {},
   "outputs": [],
   "source": [
    "import gzip\n",
    "import io\n",
    "import json\n",
    "import re\n",
    "import requests\n",
    "\n",
    "# Load events happening between 4-5pm.\n",
    "# Feel free to load more hours or more days.\n",
    "# We limit the dataset to one hour here to not overload\n",
    "# the machine that will run the queries as this tutorial\n",
    "# is expected to run on a laptop.\n",
    "# It is going to take some time. For the demo, i pre-loaded\n",
    "# the data with the mysql client to avoid the overhead of creating\n",
    "# Python objects.\n",
    "zdata = requests.get(\"https://data.gharchive.org/2015-04-28-16.json.gz\")\n",
    "data = gzip.decompress(zdata.content)\n",
    "rows = []\n",
    "\n",
    "# load ``ROW_COUNT`` rows. Feel free to set a greater value if it\n",
    "# works well in your environment. Using a small value on purpose\n",
    "# to avoid loading data for a long time.\n",
    "ROW_COUNT = 1000\n",
    "cur = conn.cursor()\n",
    "for n, line in enumerate(io.BytesIO(data)):\n",
    "    row = line.strip().decode('utf8')\n",
    "    sql = \"INSERT INTO mysql.presto.events (event) VALUES ('{}')\".format(row.replace(\"'\", \"''\"))\n",
    "    cur.execute(sql)\n",
    "    cur.fetchall()\n",
    "    if n == ROW_COUNT - 1:\n",
    "        break"
   ]
  },
  {
   "cell_type": "code",
   "execution_count": 32,
   "metadata": {},
   "outputs": [
    {
     "data": {
      "text/plain": [
       "[['\"CreateEvent\"']]"
      ]
     },
     "execution_count": 32,
     "metadata": {},
     "output_type": "execute_result"
    }
   ],
   "source": [
    "cur = conn.cursor()\n",
    "cur.execute(\"SELECT json_extract(json_parse(event), '$.type') FROM mysql.presto.events TABLESAMPLE BERNOULLI (1) LIMIT 1\")\n",
    "cur.fetchall()"
   ]
  },
  {
   "cell_type": "code",
   "execution_count": 3,
   "metadata": {},
   "outputs": [
    {
     "name": "stdout",
     "output_type": "stream",
     "text": [
      "[['PushEvent', 'pizzadealer/data', 25], ['PushEvent', 'sigma-1/kernel_samsung_lt03wifi', 5], ['PushEvent', 'wjcquking/fuzzyJoin', 3], ['PushEvent', 'EU-OSHA/napo', 3], ['PushEvent', 'Luiqes/My-Penguin', 2], ['PushEvent', 'Creadous/Creadous.github.io', 2], ['PushEvent', 'ashking/phnest', 2], ['PushEvent', 'baojianzhou/PyHW', 2], ['PushEvent', 'TenSheep/click-to-buy', 2], ['PushEvent', 'adrianvinuelas/X-Nav-OAuth-GitHub-Fichero', 2]]\n"
     ]
    },
    {
     "data": {
      "text/html": [
       "<div>\n",
       "<style scoped>\n",
       "    .dataframe tbody tr th:only-of-type {\n",
       "        vertical-align: middle;\n",
       "    }\n",
       "\n",
       "    .dataframe tbody tr th {\n",
       "        vertical-align: top;\n",
       "    }\n",
       "\n",
       "    .dataframe thead th {\n",
       "        text-align: right;\n",
       "    }\n",
       "</style>\n",
       "<table border=\"1\" class=\"dataframe\">\n",
       "  <thead>\n",
       "    <tr style=\"text-align: right;\">\n",
       "      <th></th>\n",
       "      <th>0</th>\n",
       "      <th>1</th>\n",
       "      <th>2</th>\n",
       "    </tr>\n",
       "  </thead>\n",
       "  <tbody>\n",
       "    <tr>\n",
       "      <th>0</th>\n",
       "      <td>PushEvent</td>\n",
       "      <td>pizzadealer/data</td>\n",
       "      <td>25</td>\n",
       "    </tr>\n",
       "    <tr>\n",
       "      <th>1</th>\n",
       "      <td>PushEvent</td>\n",
       "      <td>sigma-1/kernel_samsung_lt03wifi</td>\n",
       "      <td>5</td>\n",
       "    </tr>\n",
       "    <tr>\n",
       "      <th>2</th>\n",
       "      <td>PushEvent</td>\n",
       "      <td>wjcquking/fuzzyJoin</td>\n",
       "      <td>3</td>\n",
       "    </tr>\n",
       "    <tr>\n",
       "      <th>3</th>\n",
       "      <td>PushEvent</td>\n",
       "      <td>EU-OSHA/napo</td>\n",
       "      <td>3</td>\n",
       "    </tr>\n",
       "    <tr>\n",
       "      <th>4</th>\n",
       "      <td>PushEvent</td>\n",
       "      <td>Luiqes/My-Penguin</td>\n",
       "      <td>2</td>\n",
       "    </tr>\n",
       "    <tr>\n",
       "      <th>5</th>\n",
       "      <td>PushEvent</td>\n",
       "      <td>Creadous/Creadous.github.io</td>\n",
       "      <td>2</td>\n",
       "    </tr>\n",
       "    <tr>\n",
       "      <th>6</th>\n",
       "      <td>PushEvent</td>\n",
       "      <td>ashking/phnest</td>\n",
       "      <td>2</td>\n",
       "    </tr>\n",
       "    <tr>\n",
       "      <th>7</th>\n",
       "      <td>PushEvent</td>\n",
       "      <td>baojianzhou/PyHW</td>\n",
       "      <td>2</td>\n",
       "    </tr>\n",
       "    <tr>\n",
       "      <th>8</th>\n",
       "      <td>PushEvent</td>\n",
       "      <td>TenSheep/click-to-buy</td>\n",
       "      <td>2</td>\n",
       "    </tr>\n",
       "    <tr>\n",
       "      <th>9</th>\n",
       "      <td>PushEvent</td>\n",
       "      <td>adrianvinuelas/X-Nav-OAuth-GitHub-Fichero</td>\n",
       "      <td>2</td>\n",
       "    </tr>\n",
       "  </tbody>\n",
       "</table>\n",
       "</div>"
      ],
      "text/plain": [
       "           0                                          1   2\n",
       "0  PushEvent                           pizzadealer/data  25\n",
       "1  PushEvent            sigma-1/kernel_samsung_lt03wifi   5\n",
       "2  PushEvent                        wjcquking/fuzzyJoin   3\n",
       "3  PushEvent                               EU-OSHA/napo   3\n",
       "4  PushEvent                          Luiqes/My-Penguin   2\n",
       "5  PushEvent                Creadous/Creadous.github.io   2\n",
       "6  PushEvent                             ashking/phnest   2\n",
       "7  PushEvent                           baojianzhou/PyHW   2\n",
       "8  PushEvent                      TenSheep/click-to-buy   2\n",
       "9  PushEvent  adrianvinuelas/X-Nav-OAuth-GitHub-Fichero   2"
      ]
     },
     "metadata": {},
     "output_type": "display_data"
    }
   ],
   "source": [
    "cur = conn.cursor()\n",
    "cur.execute(\"\"\"\n",
    "    SELECT ev_type, repo_name, count(*) FROM (\n",
    "      SELECT\n",
    "        TRY(json_extract_scalar(ev, '$.repo.name')) as repo_name,\n",
    "        TRY(json_extract_scalar(ev, '$.type')) as ev_type FROM (\n",
    "          SELECT try(json_parse(event)) as ev FROM mysql.presto.events))\n",
    "    WHERE repo_name is not null and ev_type = 'PushEvent'\n",
    "    GROUP BY ev_type, repo_name\n",
    "    ORDER BY 3 DESC\n",
    "    LIMIT 10\n",
    "\"\"\")\n",
    "rows = cur.fetchall()\n",
    "import pandas as pd\n",
    "from IPython.display import display\n",
    "\n",
    "print(rows)\n",
    "df = pd.DataFrame(sorted(rows, key=lambda x: x[2], reverse=True))\n",
    "display(df)"
   ]
  },
  {
   "cell_type": "code",
   "execution_count": 4,
   "metadata": {},
   "outputs": [
    {
     "data": {
      "text/plain": [
       "[[1001]]"
      ]
     },
     "execution_count": 4,
     "metadata": {},
     "output_type": "execute_result"
    }
   ],
   "source": [
    "cur = conn.cursor()\n",
    "cur.execute(\"CREATE TABLE mongodb.events.all AS SELECT * FROM mysql.presto.events\")\n",
    "cur.fetchall()"
   ]
  }
 ],
 "metadata": {
  "kernelspec": {
   "display_name": "Python 3",
   "language": "python",
   "name": "python3"
  },
  "language_info": {
   "codemirror_mode": {
    "name": "ipython",
    "version": 3
   },
   "file_extension": ".py",
   "mimetype": "text/x-python",
   "name": "python",
   "nbconvert_exporter": "python",
   "pygments_lexer": "ipython3",
   "version": "3.9.2"
  }
 },
 "nbformat": 4,
 "nbformat_minor": 2
}
