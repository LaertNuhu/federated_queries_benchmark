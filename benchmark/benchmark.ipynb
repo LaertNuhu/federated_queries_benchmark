{
 "cells": [
  {
   "cell_type": "markdown",
   "metadata": {},
   "source": [
    "## Connecting to Federated Query Executed System\n",
    "\n",
    "### Presto\n",
    "``\n",
    "conn = presto.Connection(host=\"presto\", port=8080, user=\"demo\")\n",
    "cur = conn.cursor()\n",
    "``\n",
    "### Drill\n",
    "``drill = PyDrill(host='drill', port=8047)``\n",
    "### Spark\n",
    "TODO\n",
    "### Hive\n",
    "TODO\n"
   ]
  },
  {
   "cell_type": "code",
   "execution_count": 1,
   "metadata": {},
   "outputs": [
    {
     "name": "stdout",
     "output_type": "stream",
     "text": [
      "Requirement already satisfied: pathlib in /opt/conda/lib/python3.9/site-packages (1.0.1)\n",
      "Note: you may need to restart the kernel to use updated packages.\n",
      "Requirement already satisfied: jinja2 in /opt/conda/lib/python3.9/site-packages (2.11.3)\n",
      "Requirement already satisfied: MarkupSafe>=0.23 in /opt/conda/lib/python3.9/site-packages (from jinja2) (1.1.1)\n",
      "Note: you may need to restart the kernel to use updated packages.\n"
     ]
    }
   ],
   "source": [
    "%pip install pathlib\n",
    "%pip install jinja2"
   ]
  },
  {
   "cell_type": "code",
   "execution_count": 2,
   "metadata": {},
   "outputs": [],
   "source": [
    "from pathlib import Path\n",
    "import jinja2\n",
    "import prestodb.dbapi as presto\n",
    "from pydrill.client import PyDrill\n",
    "import pandas as pd\n",
    "import time"
   ]
  },
  {
   "cell_type": "code",
   "execution_count": 3,
   "metadata": {},
   "outputs": [],
   "source": [
    "# configure sources\n",
    "sources={\n",
    "    \"li_source\":\"pg1\",\n",
    "    \"o_source\":\"pg2\",\n",
    "    \"c_source\":\"pg3\",\n",
    "    \"pa_source\":\"pg4\",\n",
    "    \"s_source\":\"pg1\",\n",
    "    \"ps_source\":\"pg2\",\n",
    "    \"n_source\":\"pg3\",\n",
    "    \"r_source\":\"pg4\",\n",
    "}\n",
    "\n",
    "def get_sources_config(scale,**kwargs):\n",
    "    \"\"\"Returns a dict with tabels maped to sources\"\"\"\n",
    "    mapped = {\n",
    "        \"lineitem\":f\"{kwargs['li_source']}.public.pg_{scale}_lineitem\",\n",
    "        \"orders\":f\"{kwargs['o_source']}.public.pg_{scale}_orders\",\n",
    "        \"customer\":f\"{kwargs['c_source']}.public.pg_{scale}_customer\",\n",
    "        \"part\":f\"{kwargs['pa_source']}.public.pg_{scale}_part\",\n",
    "        \"supplier\":f\"{kwargs['s_source']}.public.pg_{scale}_supplier\",\n",
    "        \"partsupp\":f\"{kwargs['ps_source']}.public.pg_{scale}_partsupp\",\n",
    "        \"nation\":f\"{kwargs['n_source']}.public.pg_{scale}_nation\",\n",
    "        \"region\":f\"{kwargs['r_source']}.public.pg_{scale}_region\"\n",
    "    }\n",
    "    return mapped\n",
    "\n",
    "\n",
    "config = get_sources_config(scale=\"sf1\",**sources)"
   ]
  },
  {
   "cell_type": "code",
   "execution_count": 4,
   "metadata": {},
   "outputs": [],
   "source": [
    "def get_queries():\n",
    "    return [q for q in Path(\"./queries\").iterdir()]\n",
    "\n",
    "def render_queries(sources_config,queries_path):\n",
    "    \"\"\"Returns a dict where the key is the tpch query name and the value is the rendered query\"\"\"\n",
    "    result = {}\n",
    "    for path in queries_path:\n",
    "        key = path.name.split(\".\")[0]\n",
    "        value = jinja2.Template(path.read_text()).render(**sources_config)\n",
    "        result[key]=value\n",
    "    return result\n",
    "\n",
    "query_dict = render_queries(sources_config=config,queries_path=get_queries())"
   ]
  },
  {
   "cell_type": "code",
   "execution_count": 5,
   "metadata": {},
   "outputs": [],
   "source": [
    "class Presto():\n",
    "    def __init__(self,host=\"presto\",port=8080,user=\"demo\"):\n",
    "        self.conn = presto.Connection(host=\"presto\", port=8080, user=\"demo\")\n",
    "        self.cur = self.conn.cursor()\n",
    "    \n",
    "    def run_query(self,sql,show=False):\n",
    "        self.cur.execute(sql)\n",
    "        result = self.cur.fetchall()\n",
    "        if show:\n",
    "            return result"
   ]
  },
  {
   "cell_type": "code",
   "execution_count": 6,
   "metadata": {},
   "outputs": [],
   "source": [
    "class Drill(PyDrill):\n",
    "    def __init__(self,**kwargs):\n",
    "        PyDrill.__init__(self, **kwargs)\n",
    "        \n",
    "    def run_query(self,sql,timeout=100000,show=False):\n",
    "        if show:\n",
    "            return self.query(sql,timeout=timeout).to_dataframe()\n",
    "        return self.query(sql,timeout=timeout)"
   ]
  },
  {
   "cell_type": "code",
   "execution_count": 7,
   "metadata": {},
   "outputs": [],
   "source": [
    "drill = Drill(host='drill', port=8047)\n",
    "\n",
    "if not drill.is_active():\n",
    "    raise ValueError('Please run Drill first')\n",
    "\n",
    "presto = Presto()"
   ]
  },
  {
   "cell_type": "markdown",
   "metadata": {},
   "source": [
    "## How Does Presto Execute a Query?\n",
    "\n",
    "If you are curious about what Presto translate a SQL query to and what it will run, you can you `EXPLAIN`:"
   ]
  },
  {
   "cell_type": "code",
   "execution_count": 8,
   "metadata": {
    "scrolled": true
   },
   "outputs": [],
   "source": [
    "# conn = presto.Connection(host=\"presto\", port=8080, user=\"demo\")\n",
    "# cur = conn.cursor()\n",
    "# cur.execute('''\n",
    "# SELECT\n",
    "#     l_orderkey,\n",
    "#     sum(l_extendedprice * (1 - l_discount)) as revenue,\n",
    "#     o_orderdate,\n",
    "#     o_shippriority\n",
    "# FROM\n",
    "#     pg2.public.pg_sf1_customer,\n",
    "#     pg3.public.pg_sf1_orders,\n",
    "#     pg3.public.pg_sf1_lineitem\n",
    "# WHERE\n",
    "#     c_mktsegment = 'BUILDING'\n",
    "#     AND c_custkey = o_custkey\n",
    "#     AND l_orderkey = o_orderkey\n",
    "#     AND o_orderdate < date '1995-03-15'\n",
    "#     AND l_shipdate > date '1995-03-15'\n",
    "# GROUP BY\n",
    "#     l_orderkey,\n",
    "#     o_orderdate,\n",
    "#     o_shippriority\n",
    "# ORDER BY\n",
    "#     revenue desc,\n",
    "#     o_orderdate\n",
    "# LIMIT 10\n",
    "# ''')\n",
    "# presto_res = cur.fetchall()"
   ]
  },
  {
   "cell_type": "code",
   "execution_count": 9,
   "metadata": {},
   "outputs": [],
   "source": [
    "# presto_df = pd.DataFrame(presto_res,columns=[\"l_orderkey\",\"revenue\",\"o_orderdate\",\"o_shippriority\"])\n",
    "# presto_df[\"l_orderkey\"]=presto_df[\"l_orderkey\"].astype(int)\n",
    "# presto_df[\"o_shippriority\"]=presto_df[\"o_shippriority\"].astype(int)\n",
    "# presto_df[\"revenue\"]=presto_df[\"revenue\"].astype(float)\n",
    "# presto_df.dtypes"
   ]
  },
  {
   "cell_type": "markdown",
   "metadata": {},
   "source": [
    "Execute `docker exec drill /bin/sh -c \"./create_plugins.sh\"` to add storage to drill. This should be done everytime you restart drill container, as there is no persistant storage where the config is saved. \n",
    "\n",
    "This can be improved by finding where the configuration are written ang mounting a volume there."
   ]
  },
  {
   "cell_type": "code",
   "execution_count": 10,
   "metadata": {},
   "outputs": [],
   "source": [
    "# drill_res = drill.query('''SELECT\n",
    "#     l_orderkey,\n",
    "#     sum(l_extendedprice * (1 - l_discount)) as revenue,\n",
    "#     o_orderdate,\n",
    "#     o_shippriority\n",
    "# FROM\n",
    "#     pg2.public.pg_sf1_customer,\n",
    "#     pg3.public.pg_sf1_orders,\n",
    "#     pg3.public.pg_sf1_lineitem\n",
    "# WHERE\n",
    "#     c_mktsegment = 'BUILDING'\n",
    "#     AND c_custkey = o_custkey\n",
    "#     AND l_orderkey = o_orderkey\n",
    "#     AND o_orderdate < date '1995-03-15'\n",
    "#     AND l_shipdate > date '1995-03-15'\n",
    "# GROUP BY\n",
    "#     l_orderkey,\n",
    "#     o_orderdate,\n",
    "#     o_shippriority\n",
    "# ORDER BY\n",
    "#     revenue desc,\n",
    "#     o_orderdate\n",
    "# LIMIT 10''', timeout=1000)"
   ]
  },
  {
   "cell_type": "code",
   "execution_count": 11,
   "metadata": {},
   "outputs": [],
   "source": [
    "# drill_df = drill_res.to_dataframe()\n",
    "# drill_df[\"l_orderkey\"]=presto_df[\"l_orderkey\"].astype(int)\n",
    "# drill_df[\"o_shippriority\"]=presto_df[\"o_shippriority\"].astype(int)\n",
    "# drill_df[\"revenue\"]=presto_df[\"revenue\"].astype(float)\n",
    "# drill_df.dtypes"
   ]
  },
  {
   "cell_type": "code",
   "execution_count": 12,
   "metadata": {},
   "outputs": [],
   "source": [
    "def are_equal(df1,df2):\n",
    "    m = df1.merge(df2, how='outer', indicator=True)\n",
    "    return len(m[m[\"_merge\"]!=\"both\"]) == 0"
   ]
  },
  {
   "cell_type": "code",
   "execution_count": 13,
   "metadata": {},
   "outputs": [],
   "source": [
    "# are_equal(drill_df,presto_df)"
   ]
  },
  {
   "cell_type": "markdown",
   "metadata": {},
   "source": [
    "# Benchmark"
   ]
  },
  {
   "cell_type": "code",
   "execution_count": 14,
   "metadata": {},
   "outputs": [],
   "source": [
    "def benchmark(system,query,iterations=1):\n",
    "    sum = 0\n",
    "    count = 0\n",
    "    for _ in range(iterations):\n",
    "        count = count + 1\n",
    "        start = time.time()\n",
    "        system.run_query(query)\n",
    "        end = time.time()\n",
    "        sum = sum + (end - start)\n",
    "    return sum/count"
   ]
  },
  {
   "cell_type": "code",
   "execution_count": 15,
   "metadata": {},
   "outputs": [
    {
     "name": "stdout",
     "output_type": "stream",
     "text": [
      "[23.55935666561127, 10.46391978263855, 15.526761364936828, 11.201081395149231, 11.805983877182006]\n"
     ]
    }
   ],
   "source": [
    "# q2, q9, q11 -> cannot run as ps_supplycost column by partsupp is not shown by presto\n",
    "presto_benchmark_results=[]\n",
    "\n",
    "presto_benchmark_results.append(benchmark(presto,query_dict[\"q1\"],iterations=10))\n",
    "presto_benchmark_results.append(benchmark(presto,query_dict[\"q3\"],iterations=10))\n",
    "presto_benchmark_results.append(benchmark(presto,query_dict[\"q4\"],iterations=10))\n",
    "presto_benchmark_results.append(benchmark(presto,query_dict[\"q5\"],iterations=10))\n",
    "presto_benchmark_results.append(benchmark(presto,query_dict[\"q7\"],iterations=10))\n",
    "print(presto_benchmark_results)"
   ]
  },
  {
   "cell_type": "code",
   "execution_count": 17,
   "metadata": {},
   "outputs": [
    {
     "name": "stderr",
     "output_type": "stream",
     "text": [
      "POST http://drill:8047/query.json [status:500 request:8.038s]\n"
     ]
    },
    {
     "ename": "TransportError",
     "evalue": "TransportError(500, '{\\n  \"errorMessage\" : \"RESOURCE ERROR: There is not enough heap memory to run this query using the web interface. \\\\n\\\\nPlease try a query with fewer columns or with a filter or limit condition to limit the data returned. \\\\nYou can also try an ODBC/JDBC client. \\\\n\\\\n[Error Id: 5407aa4c-ad28-48ef-8a57-a709f0d7be45 ]\"\\n}')",
     "output_type": "error",
     "traceback": [
      "\u001b[0;31m---------------------------------------------------------------------------\u001b[0m",
      "\u001b[0;31mTransportError\u001b[0m                            Traceback (most recent call last)",
      "\u001b[0;32m<ipython-input-17-ddebe58089da>\u001b[0m in \u001b[0;36m<module>\u001b[0;34m\u001b[0m\n\u001b[1;32m      2\u001b[0m \u001b[0;34m\u001b[0m\u001b[0m\n\u001b[1;32m      3\u001b[0m \u001b[0mdrill_benchmark_results\u001b[0m\u001b[0;34m.\u001b[0m\u001b[0mappend\u001b[0m\u001b[0;34m(\u001b[0m\u001b[0mbenchmark\u001b[0m\u001b[0;34m(\u001b[0m\u001b[0mdrill\u001b[0m\u001b[0;34m,\u001b[0m\u001b[0mquery_dict\u001b[0m\u001b[0;34m[\u001b[0m\u001b[0;34m\"q1\"\u001b[0m\u001b[0;34m]\u001b[0m\u001b[0;34m,\u001b[0m\u001b[0miterations\u001b[0m\u001b[0;34m=\u001b[0m\u001b[0;36m10\u001b[0m\u001b[0;34m)\u001b[0m\u001b[0;34m)\u001b[0m\u001b[0;34m\u001b[0m\u001b[0;34m\u001b[0m\u001b[0m\n\u001b[0;32m----> 4\u001b[0;31m \u001b[0mdrill_benchmark_results\u001b[0m\u001b[0;34m.\u001b[0m\u001b[0mappend\u001b[0m\u001b[0;34m(\u001b[0m\u001b[0mbenchmark\u001b[0m\u001b[0;34m(\u001b[0m\u001b[0mdrill\u001b[0m\u001b[0;34m,\u001b[0m\u001b[0mquery_dict\u001b[0m\u001b[0;34m[\u001b[0m\u001b[0;34m\"q3\"\u001b[0m\u001b[0;34m]\u001b[0m\u001b[0;34m,\u001b[0m\u001b[0miterations\u001b[0m\u001b[0;34m=\u001b[0m\u001b[0;36m10\u001b[0m\u001b[0;34m)\u001b[0m\u001b[0;34m)\u001b[0m\u001b[0;34m\u001b[0m\u001b[0;34m\u001b[0m\u001b[0m\n\u001b[0m\u001b[1;32m      5\u001b[0m \u001b[0mdrill_benchmark_results\u001b[0m\u001b[0;34m.\u001b[0m\u001b[0mappend\u001b[0m\u001b[0;34m(\u001b[0m\u001b[0mbenchmark\u001b[0m\u001b[0;34m(\u001b[0m\u001b[0mdrill\u001b[0m\u001b[0;34m,\u001b[0m\u001b[0mquery_dict\u001b[0m\u001b[0;34m[\u001b[0m\u001b[0;34m\"q4\"\u001b[0m\u001b[0;34m]\u001b[0m\u001b[0;34m,\u001b[0m\u001b[0miterations\u001b[0m\u001b[0;34m=\u001b[0m\u001b[0;36m10\u001b[0m\u001b[0;34m)\u001b[0m\u001b[0;34m)\u001b[0m\u001b[0;34m\u001b[0m\u001b[0;34m\u001b[0m\u001b[0m\n\u001b[1;32m      6\u001b[0m \u001b[0mdrill_benchmark_results\u001b[0m\u001b[0;34m.\u001b[0m\u001b[0mappend\u001b[0m\u001b[0;34m(\u001b[0m\u001b[0mbenchmark\u001b[0m\u001b[0;34m(\u001b[0m\u001b[0mdrill\u001b[0m\u001b[0;34m,\u001b[0m\u001b[0mquery_dict\u001b[0m\u001b[0;34m[\u001b[0m\u001b[0;34m\"q5\"\u001b[0m\u001b[0;34m]\u001b[0m\u001b[0;34m,\u001b[0m\u001b[0miterations\u001b[0m\u001b[0;34m=\u001b[0m\u001b[0;36m10\u001b[0m\u001b[0;34m)\u001b[0m\u001b[0;34m)\u001b[0m\u001b[0;34m\u001b[0m\u001b[0;34m\u001b[0m\u001b[0m\n",
      "\u001b[0;32m<ipython-input-14-1bfa7cdfa819>\u001b[0m in \u001b[0;36mbenchmark\u001b[0;34m(system, query, iterations)\u001b[0m\n\u001b[1;32m      5\u001b[0m         \u001b[0mcount\u001b[0m \u001b[0;34m=\u001b[0m \u001b[0mcount\u001b[0m \u001b[0;34m+\u001b[0m \u001b[0;36m1\u001b[0m\u001b[0;34m\u001b[0m\u001b[0;34m\u001b[0m\u001b[0m\n\u001b[1;32m      6\u001b[0m         \u001b[0mstart\u001b[0m \u001b[0;34m=\u001b[0m \u001b[0mtime\u001b[0m\u001b[0;34m.\u001b[0m\u001b[0mtime\u001b[0m\u001b[0;34m(\u001b[0m\u001b[0;34m)\u001b[0m\u001b[0;34m\u001b[0m\u001b[0;34m\u001b[0m\u001b[0m\n\u001b[0;32m----> 7\u001b[0;31m         \u001b[0msystem\u001b[0m\u001b[0;34m.\u001b[0m\u001b[0mrun_query\u001b[0m\u001b[0;34m(\u001b[0m\u001b[0mquery\u001b[0m\u001b[0;34m)\u001b[0m\u001b[0;34m\u001b[0m\u001b[0;34m\u001b[0m\u001b[0m\n\u001b[0m\u001b[1;32m      8\u001b[0m         \u001b[0mend\u001b[0m \u001b[0;34m=\u001b[0m \u001b[0mtime\u001b[0m\u001b[0;34m.\u001b[0m\u001b[0mtime\u001b[0m\u001b[0;34m(\u001b[0m\u001b[0;34m)\u001b[0m\u001b[0;34m\u001b[0m\u001b[0;34m\u001b[0m\u001b[0m\n\u001b[1;32m      9\u001b[0m         \u001b[0msum\u001b[0m \u001b[0;34m=\u001b[0m \u001b[0msum\u001b[0m \u001b[0;34m+\u001b[0m \u001b[0;34m(\u001b[0m\u001b[0mend\u001b[0m \u001b[0;34m-\u001b[0m \u001b[0mstart\u001b[0m\u001b[0;34m)\u001b[0m\u001b[0;34m\u001b[0m\u001b[0;34m\u001b[0m\u001b[0m\n",
      "\u001b[0;32m<ipython-input-6-0468f421bdee>\u001b[0m in \u001b[0;36mrun_query\u001b[0;34m(self, sql, timeout, show)\u001b[0m\n\u001b[1;32m      6\u001b[0m         \u001b[0;32mif\u001b[0m \u001b[0mshow\u001b[0m\u001b[0;34m:\u001b[0m\u001b[0;34m\u001b[0m\u001b[0;34m\u001b[0m\u001b[0m\n\u001b[1;32m      7\u001b[0m             \u001b[0;32mreturn\u001b[0m \u001b[0mself\u001b[0m\u001b[0;34m.\u001b[0m\u001b[0mquery\u001b[0m\u001b[0;34m(\u001b[0m\u001b[0msql\u001b[0m\u001b[0;34m,\u001b[0m\u001b[0mtimeout\u001b[0m\u001b[0;34m=\u001b[0m\u001b[0mtimeout\u001b[0m\u001b[0;34m)\u001b[0m\u001b[0;34m.\u001b[0m\u001b[0mto_dataframe\u001b[0m\u001b[0;34m(\u001b[0m\u001b[0;34m)\u001b[0m\u001b[0;34m\u001b[0m\u001b[0;34m\u001b[0m\u001b[0m\n\u001b[0;32m----> 8\u001b[0;31m         \u001b[0;32mreturn\u001b[0m \u001b[0mself\u001b[0m\u001b[0;34m.\u001b[0m\u001b[0mquery\u001b[0m\u001b[0;34m(\u001b[0m\u001b[0msql\u001b[0m\u001b[0;34m,\u001b[0m\u001b[0mtimeout\u001b[0m\u001b[0;34m=\u001b[0m\u001b[0mtimeout\u001b[0m\u001b[0;34m)\u001b[0m\u001b[0;34m\u001b[0m\u001b[0;34m\u001b[0m\u001b[0m\n\u001b[0m",
      "\u001b[0;32m/opt/conda/lib/python3.9/site-packages/pydrill/client/__init__.py\u001b[0m in \u001b[0;36mquery\u001b[0;34m(self, sql, timeout)\u001b[0m\n\u001b[1;32m     52\u001b[0m             \u001b[0;32mraise\u001b[0m \u001b[0mQueryError\u001b[0m\u001b[0;34m(\u001b[0m\u001b[0;34m'No query passed to drill.'\u001b[0m\u001b[0;34m)\u001b[0m\u001b[0;34m\u001b[0m\u001b[0;34m\u001b[0m\u001b[0m\n\u001b[1;32m     53\u001b[0m \u001b[0;34m\u001b[0m\u001b[0m\n\u001b[0;32m---> 54\u001b[0;31m         result = ResultQuery(*self.perform_request(**{\n\u001b[0m\u001b[1;32m     55\u001b[0m             \u001b[0;34m'method'\u001b[0m\u001b[0;34m:\u001b[0m \u001b[0;34m'POST'\u001b[0m\u001b[0;34m,\u001b[0m\u001b[0;34m\u001b[0m\u001b[0;34m\u001b[0m\u001b[0m\n\u001b[1;32m     56\u001b[0m             \u001b[0;34m'url'\u001b[0m\u001b[0;34m:\u001b[0m \u001b[0;34m'/query.json'\u001b[0m\u001b[0;34m,\u001b[0m\u001b[0;34m\u001b[0m\u001b[0;34m\u001b[0m\u001b[0m\n",
      "\u001b[0;32m/opt/conda/lib/python3.9/site-packages/pydrill/client/__init__.py\u001b[0m in \u001b[0;36mperform_request\u001b[0;34m(self, method, url, params, body)\u001b[0m\n\u001b[1;32m     22\u001b[0m \u001b[0;34m\u001b[0m\u001b[0m\n\u001b[1;32m     23\u001b[0m     \u001b[0;32mdef\u001b[0m \u001b[0mperform_request\u001b[0m\u001b[0;34m(\u001b[0m\u001b[0mself\u001b[0m\u001b[0;34m,\u001b[0m \u001b[0mmethod\u001b[0m\u001b[0;34m,\u001b[0m \u001b[0murl\u001b[0m\u001b[0;34m,\u001b[0m \u001b[0mparams\u001b[0m\u001b[0;34m=\u001b[0m\u001b[0;32mNone\u001b[0m\u001b[0;34m,\u001b[0m \u001b[0mbody\u001b[0m\u001b[0;34m=\u001b[0m\u001b[0;32mNone\u001b[0m\u001b[0;34m)\u001b[0m\u001b[0;34m:\u001b[0m\u001b[0;34m\u001b[0m\u001b[0;34m\u001b[0m\u001b[0m\n\u001b[0;32m---> 24\u001b[0;31m         \u001b[0;32mreturn\u001b[0m \u001b[0mself\u001b[0m\u001b[0;34m.\u001b[0m\u001b[0mtransport\u001b[0m\u001b[0;34m.\u001b[0m\u001b[0mperform_request\u001b[0m\u001b[0;34m(\u001b[0m\u001b[0mmethod\u001b[0m\u001b[0;34m,\u001b[0m \u001b[0murl\u001b[0m\u001b[0;34m,\u001b[0m \u001b[0mparams\u001b[0m\u001b[0;34m,\u001b[0m \u001b[0mbody\u001b[0m\u001b[0;34m)\u001b[0m\u001b[0;34m\u001b[0m\u001b[0;34m\u001b[0m\u001b[0m\n\u001b[0m\u001b[1;32m     25\u001b[0m \u001b[0;34m\u001b[0m\u001b[0m\n\u001b[1;32m     26\u001b[0m     \u001b[0;32mdef\u001b[0m \u001b[0mis_active\u001b[0m\u001b[0;34m(\u001b[0m\u001b[0mself\u001b[0m\u001b[0;34m,\u001b[0m \u001b[0mtimeout\u001b[0m\u001b[0;34m=\u001b[0m\u001b[0;36m2\u001b[0m\u001b[0;34m)\u001b[0m\u001b[0;34m:\u001b[0m\u001b[0;34m\u001b[0m\u001b[0;34m\u001b[0m\u001b[0m\n",
      "\u001b[0;32m/opt/conda/lib/python3.9/site-packages/pydrill/transport.py\u001b[0m in \u001b[0;36mperform_request\u001b[0;34m(self, method, url, params, body)\u001b[0m\n\u001b[1;32m     76\u001b[0m \u001b[0;34m\u001b[0m\u001b[0m\n\u001b[1;32m     77\u001b[0m             \u001b[0;32mtry\u001b[0m\u001b[0;34m:\u001b[0m\u001b[0;34m\u001b[0m\u001b[0;34m\u001b[0m\u001b[0m\n\u001b[0;32m---> 78\u001b[0;31m                 response, data, duration = connection.perform_request(method, url, params, body, ignore=ignore,\n\u001b[0m\u001b[1;32m     79\u001b[0m                                                                       timeout=timeout)\n\u001b[1;32m     80\u001b[0m             \u001b[0;32mexcept\u001b[0m \u001b[0mTransportError\u001b[0m \u001b[0;32mas\u001b[0m \u001b[0me\u001b[0m\u001b[0;34m:\u001b[0m\u001b[0;34m\u001b[0m\u001b[0;34m\u001b[0m\u001b[0m\n",
      "\u001b[0;32m/opt/conda/lib/python3.9/site-packages/pydrill/connection/requests_conn.py\u001b[0m in \u001b[0;36mperform_request\u001b[0;34m(self, method, url, params, body, timeout, ignore, headers)\u001b[0m\n\u001b[1;32m    103\u001b[0m         \u001b[0;32mif\u001b[0m \u001b[0;32mnot\u001b[0m \u001b[0;34m(\u001b[0m\u001b[0;36m200\u001b[0m \u001b[0;34m<=\u001b[0m \u001b[0mresponse\u001b[0m\u001b[0;34m.\u001b[0m\u001b[0mstatus_code\u001b[0m \u001b[0;34m<\u001b[0m \u001b[0;36m300\u001b[0m\u001b[0;34m)\u001b[0m \u001b[0;32mand\u001b[0m \u001b[0mresponse\u001b[0m\u001b[0;34m.\u001b[0m\u001b[0mstatus_code\u001b[0m \u001b[0;32mnot\u001b[0m \u001b[0;32min\u001b[0m \u001b[0mignore\u001b[0m\u001b[0;34m:\u001b[0m\u001b[0;34m\u001b[0m\u001b[0;34m\u001b[0m\u001b[0m\n\u001b[1;32m    104\u001b[0m             \u001b[0mself\u001b[0m\u001b[0;34m.\u001b[0m\u001b[0mlog_request_fail\u001b[0m\u001b[0;34m(\u001b[0m\u001b[0mmethod\u001b[0m\u001b[0;34m,\u001b[0m \u001b[0murl\u001b[0m\u001b[0;34m,\u001b[0m \u001b[0mbody\u001b[0m\u001b[0;34m,\u001b[0m \u001b[0mduration\u001b[0m\u001b[0;34m,\u001b[0m \u001b[0mresponse\u001b[0m\u001b[0;34m.\u001b[0m\u001b[0mstatus_code\u001b[0m\u001b[0;34m)\u001b[0m\u001b[0;34m\u001b[0m\u001b[0;34m\u001b[0m\u001b[0m\n\u001b[0;32m--> 105\u001b[0;31m             \u001b[0mself\u001b[0m\u001b[0;34m.\u001b[0m\u001b[0m_raise_error\u001b[0m\u001b[0;34m(\u001b[0m\u001b[0mresponse\u001b[0m\u001b[0;34m.\u001b[0m\u001b[0mstatus_code\u001b[0m\u001b[0;34m,\u001b[0m \u001b[0mraw_data\u001b[0m\u001b[0;34m)\u001b[0m\u001b[0;34m\u001b[0m\u001b[0;34m\u001b[0m\u001b[0m\n\u001b[0m\u001b[1;32m    106\u001b[0m \u001b[0;34m\u001b[0m\u001b[0m\n\u001b[1;32m    107\u001b[0m         \u001b[0;32mif\u001b[0m \u001b[0;34m'action=\"/j_security_check\"'\u001b[0m \u001b[0;32min\u001b[0m \u001b[0mraw_data\u001b[0m\u001b[0;34m:\u001b[0m\u001b[0;34m\u001b[0m\u001b[0;34m\u001b[0m\u001b[0m\n",
      "\u001b[0;32m/opt/conda/lib/python3.9/site-packages/pydrill/connection/base.py\u001b[0m in \u001b[0;36m_raise_error\u001b[0;34m(self, status_code, raw_data)\u001b[0m\n\u001b[1;32m    111\u001b[0m             \u001b[0;32mpass\u001b[0m\u001b[0;34m\u001b[0m\u001b[0;34m\u001b[0m\u001b[0m\n\u001b[1;32m    112\u001b[0m \u001b[0;34m\u001b[0m\u001b[0m\n\u001b[0;32m--> 113\u001b[0;31m         \u001b[0;32mraise\u001b[0m \u001b[0mHTTP_EXCEPTIONS\u001b[0m\u001b[0;34m.\u001b[0m\u001b[0mget\u001b[0m\u001b[0;34m(\u001b[0m\u001b[0mstatus_code\u001b[0m\u001b[0;34m,\u001b[0m \u001b[0mTransportError\u001b[0m\u001b[0;34m)\u001b[0m\u001b[0;34m(\u001b[0m\u001b[0mstatus_code\u001b[0m\u001b[0;34m,\u001b[0m \u001b[0merror_message\u001b[0m\u001b[0;34m,\u001b[0m \u001b[0madditional_info\u001b[0m\u001b[0;34m)\u001b[0m\u001b[0;34m\u001b[0m\u001b[0;34m\u001b[0m\u001b[0m\n\u001b[0m\u001b[1;32m    114\u001b[0m \u001b[0;34m\u001b[0m\u001b[0m\n\u001b[1;32m    115\u001b[0m     \u001b[0;32mdef\u001b[0m \u001b[0mperform_request\u001b[0m\u001b[0;34m(\u001b[0m\u001b[0mself\u001b[0m\u001b[0;34m,\u001b[0m \u001b[0mmethod\u001b[0m\u001b[0;34m,\u001b[0m \u001b[0murl\u001b[0m\u001b[0;34m,\u001b[0m \u001b[0mparams\u001b[0m\u001b[0;34m=\u001b[0m\u001b[0;32mNone\u001b[0m\u001b[0;34m,\u001b[0m \u001b[0mbody\u001b[0m\u001b[0;34m=\u001b[0m\u001b[0;32mNone\u001b[0m\u001b[0;34m,\u001b[0m \u001b[0mtimeout\u001b[0m\u001b[0;34m=\u001b[0m\u001b[0;32mNone\u001b[0m\u001b[0;34m,\u001b[0m \u001b[0mignore\u001b[0m\u001b[0;34m=\u001b[0m\u001b[0;34m(\u001b[0m\u001b[0;34m)\u001b[0m\u001b[0;34m)\u001b[0m\u001b[0;34m:\u001b[0m\u001b[0;34m\u001b[0m\u001b[0;34m\u001b[0m\u001b[0m\n",
      "\u001b[0;31mTransportError\u001b[0m: TransportError(500, '{\\n  \"errorMessage\" : \"RESOURCE ERROR: There is not enough heap memory to run this query using the web interface. \\\\n\\\\nPlease try a query with fewer columns or with a filter or limit condition to limit the data returned. \\\\nYou can also try an ODBC/JDBC client. \\\\n\\\\n[Error Id: 5407aa4c-ad28-48ef-8a57-a709f0d7be45 ]\"\\n}')"
     ]
    }
   ],
   "source": [
    "drill_benchmark_results=[]\n",
    "\n",
    "drill_benchmark_results.append(benchmark(drill,query_dict[\"q1\"],iterations=10))\n",
    "drill_benchmark_results.append(benchmark(drill,query_dict[\"q3\"],iterations=10))\n",
    "drill_benchmark_results.append(benchmark(drill,query_dict[\"q4\"],iterations=10))\n",
    "drill_benchmark_results.append(benchmark(drill,query_dict[\"q5\"],iterations=10))\n",
    "drill_benchmark_results.append(benchmark(drill,query_dict[\"q7\"],iterations=10))\n",
    "print(drill_benchmark_results)"
   ]
  },
  {
   "cell_type": "code",
   "execution_count": 19,
   "metadata": {},
   "outputs": [],
   "source": [
    "drill_benchmark_results.append(benchmark(drill,query_dict[\"q3\"],iterations=10))"
   ]
  },
  {
   "cell_type": "code",
   "execution_count": 23,
   "metadata": {},
   "outputs": [],
   "source": [
    "drill_benchmark_results.append(benchmark(drill,query_dict[\"q4\"],iterations=10))"
   ]
  },
  {
   "cell_type": "code",
   "execution_count": 33,
   "metadata": {},
   "outputs": [],
   "source": [
    "drill = Drill(host='drill', port=8047)\n",
    "# drill_benchmark_results.append(benchmark(drill,query_dict[\"q5\"],iterations=10))\n",
    "drill_benchmark_results.append(0)"
   ]
  },
  {
   "cell_type": "code",
   "execution_count": 34,
   "metadata": {},
   "outputs": [],
   "source": [
    "drill_benchmark_results.append(benchmark(drill,query_dict[\"q7\"],iterations=10))"
   ]
  },
  {
   "cell_type": "code",
   "execution_count": 37,
   "metadata": {},
   "outputs": [
    {
     "data": {
      "text/plain": [
       "[24.875804400444032,\n",
       " 30.99094581604004,\n",
       " 6.658303618431091,\n",
       " 0,\n",
       " 57.805634188652036]"
      ]
     },
     "execution_count": 37,
     "metadata": {},
     "output_type": "execute_result"
    }
   ],
   "source": [
    "drill_benchmark_results"
   ]
  },
  {
   "cell_type": "code",
   "execution_count": 38,
   "metadata": {},
   "outputs": [
    {
     "data": {
      "text/plain": [
       "[23.55935666561127,\n",
       " 10.46391978263855,\n",
       " 15.526761364936828,\n",
       " 11.201081395149231,\n",
       " 11.805983877182006]"
      ]
     },
     "execution_count": 38,
     "metadata": {},
     "output_type": "execute_result"
    }
   ],
   "source": [
    "presto_benchmark_results"
   ]
  },
  {
   "cell_type": "code",
   "execution_count": 39,
   "metadata": {},
   "outputs": [
    {
     "name": "stdout",
     "output_type": "stream",
     "text": [
      "Requirement already satisfied: matplotlib in /opt/conda/lib/python3.9/site-packages (3.4.2)\n",
      "Requirement already satisfied: cycler>=0.10 in /opt/conda/lib/python3.9/site-packages (from matplotlib) (0.10.0)\n",
      "Requirement already satisfied: numpy>=1.16 in /opt/conda/lib/python3.9/site-packages (from matplotlib) (1.20.2)\n",
      "Requirement already satisfied: python-dateutil>=2.7 in /opt/conda/lib/python3.9/site-packages (from matplotlib) (2.8.1)\n",
      "Requirement already satisfied: kiwisolver>=1.0.1 in /opt/conda/lib/python3.9/site-packages (from matplotlib) (1.3.1)\n",
      "Requirement already satisfied: pillow>=6.2.0 in /opt/conda/lib/python3.9/site-packages (from matplotlib) (8.1.2)\n",
      "Requirement already satisfied: pyparsing>=2.2.1 in /opt/conda/lib/python3.9/site-packages (from matplotlib) (2.4.7)\n",
      "Requirement already satisfied: six in /opt/conda/lib/python3.9/site-packages (from cycler>=0.10->matplotlib) (1.16.0)\n",
      "Note: you may need to restart the kernel to use updated packages.\n"
     ]
    }
   ],
   "source": [
    "%pip install matplotlib"
   ]
  },
  {
   "cell_type": "code",
   "execution_count": 49,
   "metadata": {},
   "outputs": [
    {
     "data": {
      "image/png": "[encoded data removed]",
      "text/plain": [
       "<Figure size 432x288 with 1 Axes>"
      ]
     },
     "metadata": {
      "needs_background": "light"
     },
     "output_type": "display_data"
    }
   ],
   "source": [
    "import matplotlib.pyplot as plt\n",
    "import numpy as np\n",
    "labels = [\"q1\",\"q3\",\"q4\",\"q5\",\"q7\"]\n",
    "x = np.arange(len(labels))\n",
    "width = 0.35 \n",
    "fig, ax = plt.subplots()\n",
    "rects1 = ax.bar(x - width/2, presto_benchmark_results, width, label='Presto')\n",
    "rects2 = ax.bar(x + width/2, drill_benchmark_results, width, label='Drill')\n",
    "\n",
    "ax.set_ylabel('Processing time (s)')\n",
    "ax.set_title('TPC-H Queries')\n",
    "ax.set_xticks(x)\n",
    "ax.set_xticklabels(labels)\n",
    "ax.legend()\n",
    "\n",
    "fig.tight_layout()\n",
    "\n",
    "plt.show()"
   ]
  },
  {
   "cell_type": "markdown",
   "metadata": {},
   "source": [
    "## Create a Table in MySQL\n",
    "\n",
    "Let's use the MySQL client to create the table. Then we will switch to Presto to manipulate the data:"
   ]
  },
  {
   "cell_type": "code",
   "execution_count": null,
   "metadata": {},
   "outputs": [],
   "source": [
    "# import MySQLdb\n",
    "\n",
    "# mysql = MySQLdb.connect(host=\"mysql\", user=\"root\", passwd=\"mysql\")\n",
    "# cur = mysql.cursor()\n",
    "# cur.execute(\"CREATE DATABASE IF NOT EXISTS presto\")\n",
    "# cur.fetchall()\n",
    "# cur.execute(\"\"\"\n",
    "#     CREATE TABLE IF NOT EXISTS presto.events (event LONGTEXT)\n",
    "#     CHARSET utf8mb4 ENGINE=InnoDB\n",
    "# \"\"\")\n",
    "# cur.fetchall()\n",
    "# cur.execute(\"DESC presto.events\")\n",
    "# for row in cur.fetchall():\n",
    "#     print(\"{table}: [{props}]\".format(\n",
    "#         table=row[0],\n",
    "#         props=', '.join(str(i) for i in row[1:])))"
   ]
  },
  {
   "cell_type": "markdown",
   "metadata": {},
   "source": [
    "## Load Data in MySQL\n",
    "\n",
    "Let's now load data from [GH Archive](http://www.gharchive.org/) into MySQL and MongoDB.\n",
    "Each file from GH Archive contains lines of JSON structs that represent events from the public GitHub timeline, for example repository creation or code push.\n",
    "\n",
    "Now that the table is create in MySQL, we can insert rows with Presto by using the existing `conn` object created above. You can open http://localhost:8080 to see the execution Presto queries."
   ]
  },
  {
   "cell_type": "code",
   "execution_count": null,
   "metadata": {},
   "outputs": [],
   "source": [
    "# import gzip\n",
    "# import io\n",
    "# import json\n",
    "# import re\n",
    "# import requests\n",
    "\n",
    "# # Load events happening between 4-5pm.\n",
    "# # Feel free to load more hours or more days.\n",
    "# # We limit the dataset to one hour here to not overload\n",
    "# # the machine that will run the queries as this tutorial\n",
    "# # is expected to run on a laptop.\n",
    "# # It is going to take some time. For the demo, i pre-loaded\n",
    "# # the data with the mysql client to avoid the overhead of creating\n",
    "# # Python objects.\n",
    "# zdata = requests.get(\"https://data.gharchive.org/2015-04-28-16.json.gz\")\n",
    "# data = gzip.decompress(zdata.content)\n",
    "# rows = []\n",
    "\n",
    "# # load ``ROW_COUNT`` rows. Feel free to set a greater value if it\n",
    "# # works well in your environment. Using a small value on purpose\n",
    "# # to avoid loading data for a long time.\n",
    "# ROW_COUNT = 1000\n",
    "# cur = conn.cursor()\n",
    "# for n, line in enumerate(io.BytesIO(data)):\n",
    "#     row = line.strip().decode('utf8')\n",
    "#     sql = \"INSERT INTO mysql.presto.events (event) VALUES ('{}')\".format(row.replace(\"'\", \"''\"))\n",
    "#     cur.execute(sql)\n",
    "#     cur.fetchall()\n",
    "#     if n == ROW_COUNT - 1:\n",
    "#         break"
   ]
  },
  {
   "cell_type": "code",
   "execution_count": null,
   "metadata": {},
   "outputs": [],
   "source": [
    "# cur = conn.cursor()\n",
    "# cur.execute(\"SELECT json_extract(json_parse(event), '$.type') FROM mysql.presto.events TABLESAMPLE BERNOULLI (1) LIMIT 1\")\n",
    "# cur.fetchall()"
   ]
  },
  {
   "cell_type": "code",
   "execution_count": null,
   "metadata": {},
   "outputs": [],
   "source": [
    "# cur = conn.cursor()\n",
    "# cur.execute(\"\"\"\n",
    "#     SELECT ev_type, repo_name, count(*) FROM (\n",
    "#       SELECT\n",
    "#         TRY(json_extract_scalar(ev, '$.repo.name')) as repo_name,\n",
    "#         TRY(json_extract_scalar(ev, '$.type')) as ev_type FROM (\n",
    "#           SELECT try(json_parse(event)) as ev FROM mysql.presto.events))\n",
    "#     WHERE repo_name is not null and ev_type = 'PushEvent'\n",
    "#     GROUP BY ev_type, repo_name\n",
    "#     ORDER BY 3 DESC\n",
    "#     LIMIT 10\n",
    "# \"\"\")\n",
    "# rows = cur.fetchall()\n",
    "# import pandas as pd\n",
    "# from IPython.display import display\n",
    "\n",
    "# print(rows)\n",
    "# df = pd.DataFrame(sorted(rows, key=lambda x: x[2], reverse=True))\n",
    "# display(df)"
   ]
  },
  {
   "cell_type": "code",
   "execution_count": null,
   "metadata": {},
   "outputs": [],
   "source": [
    "# cur = conn.cursor()\n",
    "# cur.execute(\"CREATE TABLE mongodb.events.all AS SELECT * FROM mysql.presto.events\")\n",
    "# cur.fetchall()"
   ]
  }
 ],
 "metadata": {
  "kernelspec": {
   "display_name": "Python 3",
   "language": "python",
   "name": "python3"
  },
  "language_info": {
   "codemirror_mode": {
    "name": "ipython",
    "version": 3
   },
   "file_extension": ".py",
   "mimetype": "text/x-python",
   "name": "python",
   "nbconvert_exporter": "python",
   "pygments_lexer": "ipython3",
   "version": "3.9.2"
  }
 },
 "nbformat": 4,
 "nbformat_minor": 2
}
