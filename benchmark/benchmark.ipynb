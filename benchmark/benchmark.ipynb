{
 "cells": [
  {
   "cell_type": "markdown",
   "metadata": {},
   "source": [
    "## Connecting to Federated Query Executed System\n",
    "\n",
    "### Presto\n",
    "``\n",
    "conn = presto.Connection(host=\"presto\", port=8080, user=\"demo\")\n",
    "cur = conn.cursor()\n",
    "``\n",
    "### Drill\n",
    "``drill = PyDrill(host='drill', port=8047)``\n",
    "### Spark\n",
    "TODO\n",
    "### Hive\n",
    "TODO\n"
   ]
  },
  {
   "cell_type": "code",
   "execution_count": 1,
   "metadata": {},
   "outputs": [
    {
     "name": "stdout",
     "output_type": "stream",
     "text": [
      "Requirement already satisfied: pathlib in /opt/conda/lib/python3.9/site-packages (1.0.1)\n",
      "Note: you may need to restart the kernel to use updated packages.\n",
      "Requirement already satisfied: jinja2 in /opt/conda/lib/python3.9/site-packages (3.0.1)\n",
      "Requirement already satisfied: MarkupSafe>=2.0 in /opt/conda/lib/python3.9/site-packages (from jinja2) (2.0.1)\n",
      "Note: you may need to restart the kernel to use updated packages.\n"
     ]
    }
   ],
   "source": [
    "%pip install pathlib\n",
    "%pip install jinja2"
   ]
  },
  {
   "cell_type": "code",
   "execution_count": 2,
   "metadata": {},
   "outputs": [],
   "source": [
    "from pathlib import Path\n",
    "import jinja2\n",
    "import prestodb.dbapi as presto\n",
    "from pydrill.client import PyDrill\n",
    "import pandas as pd\n",
    "import time"
   ]
  },
  {
   "cell_type": "code",
   "execution_count": 3,
   "metadata": {},
   "outputs": [],
   "source": [
    "# configure sources\n",
    "def get_sources_config(scale,**kwargs):\n",
    "    \"\"\"Returns a dict with tabels maped to sources\"\"\"\n",
    "    mapped = {\n",
    "        \"lineitem\":f\"{kwargs['li_source']}.public.{kwargs['li_source'][:-1]}_{scale}_lineitem\",\n",
    "        \"orders\":f\"{kwargs['o_source']}.public.{kwargs['o_source'][:-1]}_{scale}_orders\",\n",
    "        \"customer\":f\"{kwargs['c_source']}.public.{kwargs['c_source'][:-1]}_{scale}_customer\",\n",
    "        \"part\":f\"{kwargs['pa_source']}.public.{kwargs['pa_source'][:-1]}_{scale}_part\",\n",
    "        \"supplier\":f\"{kwargs['s_source']}.public.{kwargs['s_source'][:-1]}_{scale}_supplier\",\n",
    "        \"partsupp\":f\"{kwargs['ps_source']}.public.{kwargs['ps_source'][:-1]}_{scale}_partsupp\",\n",
    "        \"nation\":f\"{kwargs['n_source']}.public.{kwargs['n_source'][:-1]}_{scale}_nation\",\n",
    "        \"region\":f\"{kwargs['r_source']}.public.{kwargs['r_source'][:-1]}_{scale}_region\"\n",
    "    }\n",
    "    return mapped"
   ]
  },
  {
   "cell_type": "code",
   "execution_count": 4,
   "metadata": {},
   "outputs": [],
   "source": [
    "def get_queries():\n",
    "    return [q for q in Path(\"./queries\").iterdir()]\n",
    "\n",
    "def render_queries(sources_config,queries_path):\n",
    "    \"\"\"Returns a dict where the key is the tpch query name and the value is the rendered query\"\"\"\n",
    "    result = {}\n",
    "    for path in queries_path:\n",
    "        key = path.name.split(\".\")[0]\n",
    "        value = jinja2.Template(path.read_text()).render(**sources_config)\n",
    "        result[key]=value\n",
    "    return result"
   ]
  },
  {
   "cell_type": "code",
   "execution_count": 5,
   "metadata": {},
   "outputs": [],
   "source": [
    "class Presto():\n",
    "    def __init__(self,host=\"presto\",port=8080,user=\"demo\"):\n",
    "        self.conn = presto.Connection(host=\"presto\", port=8080, user=\"demo\")\n",
    "        self.cur = self.conn.cursor()\n",
    "    \n",
    "    def run_query(self,sql,show=False):\n",
    "        self.cur.execute(sql)\n",
    "        result = self.cur.fetchall()\n",
    "        if show:\n",
    "            return result"
   ]
  },
  {
   "cell_type": "code",
   "execution_count": 6,
   "metadata": {},
   "outputs": [],
   "source": [
    "class Drill(PyDrill):\n",
    "    def __init__(self,**kwargs):\n",
    "        PyDrill.__init__(self, **kwargs)\n",
    "        \n",
    "    def run_query(self,sql,timeout=100000,show=False):\n",
    "        if show:\n",
    "            return self.query(sql,timeout=timeout).to_dataframe()\n",
    "        return self.query(sql,timeout=timeout)"
   ]
  },
  {
   "cell_type": "code",
   "execution_count": 7,
   "metadata": {},
   "outputs": [],
   "source": [
    "drill = Drill(host='drill', port=8047)\n",
    "\n",
    "if not drill.is_active():\n",
    "    raise ValueError('Please run Drill first')\n",
    "\n",
    "presto = Presto()"
   ]
  },
  {
   "cell_type": "markdown",
   "metadata": {},
   "source": [
    "# Benchmark"
   ]
  },
  {
   "cell_type": "code",
   "execution_count": 8,
   "metadata": {},
   "outputs": [],
   "source": [
    "def benchmark(system,query,iterations=1):\n",
    "    sum = 0\n",
    "    count = 0\n",
    "    for _ in range(iterations):\n",
    "        count = count + 1\n",
    "        start = time.time()\n",
    "        system.run_query(query)\n",
    "        end = time.time()\n",
    "        sum = sum + (end - start)\n",
    "    return sum/count"
   ]
  },
  {
   "cell_type": "code",
   "execution_count": 9,
   "metadata": {},
   "outputs": [],
   "source": [
    "import re\n",
    "\n",
    "def sort_human(l):\n",
    "    convert = lambda text: float(text) if text.isdigit() else text\n",
    "    alphanum = lambda key: [convert(c) for c in re.split('([-+]?[0-9]*\\.?[0-9]*)', key)]\n",
    "    l.sort(key=alphanum)\n",
    "    return l"
   ]
  },
  {
   "cell_type": "code",
   "execution_count": 10,
   "metadata": {},
   "outputs": [],
   "source": [
    "mixed_sources={\n",
    "    \"li_source\":\"pg1\",\n",
    "    \"o_source\":\"mysql1\",\n",
    "    \"c_source\":\"pg3\",\n",
    "    \"pa_source\":\"pg4\",\n",
    "    \"s_source\":\"mysql1\",\n",
    "    \"ps_source\":\"mysql2\",\n",
    "    \"n_source\":\"pg3\",\n",
    "    \"r_source\":\"pg4\",\n",
    "}\n",
    "config_sf1_mixed = get_sources_config(scale=\"sf1\",**mixed_sources)\n",
    "query_dict = render_queries(sources_config=config_sf1_mixed,queries_path=get_queries())"
   ]
  },
  {
   "cell_type": "code",
   "execution_count": 11,
   "metadata": {},
   "outputs": [],
   "source": [
    "# q2, q9, q11 -> cannot run as ps_supplycost column by partsupp is not shown by presto\n",
    "presto_benchmark_results=[]"
   ]
  },
  {
   "cell_type": "code",
   "execution_count": 12,
   "metadata": {},
   "outputs": [],
   "source": [
    "sorted_query_keys = sort_human(list(query_dict.keys()))"
   ]
  },
  {
   "cell_type": "code",
   "execution_count": 13,
   "metadata": {},
   "outputs": [],
   "source": [
    "def run_and_save_results(system,queries,iterations=1):\n",
    "    f = Path(f\"{type(system).__name__}.csv\").open(\"a\")\n",
    "    log = Path(\"errors.log\").open(\"a\")\n",
    "    for query in queries[:-1]:\n",
    "        try:\n",
    "            benchmark_result = benchmark(system,query_dict[query],iterations=iterations)\n",
    "            f.write(str(benchmark_result))\n",
    "            time.sleep(10)\n",
    "        except Exception as e:\n",
    "            f.write(\"0\")\n",
    "            log.write(str(e))\n",
    "        f.write(\",\")\n",
    "        f.flush()\n",
    "    try:\n",
    "        benchmark_result = benchmark(system,query_dict[queries[-1]],iterations=iterations)\n",
    "        f.write(str(benchmark_result))\n",
    "    except Exception as e:\n",
    "        f.write(\"0\")\n",
    "        log.write(str(e))\n",
    "    f.write(\"\\n\")\n",
    "    log.write(\"\\n\")\n",
    "    log.close()\n",
    "    f.close()"
   ]
  },
  {
   "cell_type": "code",
   "execution_count": null,
   "metadata": {},
   "outputs": [],
   "source": [
    "run_and_save_results(presto,sorted_query_keys,iterations=10)"
   ]
  },
  {
   "cell_type": "code",
   "execution_count": null,
   "metadata": {},
   "outputs": [],
   "source": [
    "pg_sources={\n",
    "    \"li_source\":\"pg1\",\n",
    "    \"o_source\":\"pg2\",\n",
    "    \"c_source\":\"pg3\",\n",
    "    \"pa_source\":\"pg4\",\n",
    "    \"s_source\":\"pg2\",\n",
    "    \"ps_source\":\"pg1\",\n",
    "    \"n_source\":\"pg3\",\n",
    "    \"r_source\":\"pg4\",\n",
    "}\n",
    "config_sf1_pg = get_sources_config(scale=\"sf1\",**pg_sources)\n",
    "query_dict = render_queries(sources_config=config_sf1_pg,queries_path=get_queries())"
   ]
  },
  {
   "cell_type": "code",
   "execution_count": null,
   "metadata": {},
   "outputs": [],
   "source": [
    "run_and_save_results(presto,sorted_query_keys,iterations=10)"
   ]
  },
  {
   "cell_type": "code",
   "execution_count": null,
   "metadata": {},
   "outputs": [],
   "source": [
    "mysql_sources={\n",
    "    \"li_source\":\"mysql1\",\n",
    "    \"o_source\":\"mysql2\",\n",
    "    \"c_source\":\"mysql1\",\n",
    "    \"pa_source\":\"mysql2\",\n",
    "    \"s_source\":\"mysql2\",\n",
    "    \"ps_source\":\"mysql1\",\n",
    "    \"n_source\":\"mysql2\",\n",
    "    \"r_source\":\"mysql1\",\n",
    "}\n",
    "config_sf1_mysql = get_sources_config(scale=\"sf1\",**mysql_sources)\n",
    "query_dict = render_queries(sources_config=config_sf1_mysql,queries_path=get_queries())"
   ]
  },
  {
   "cell_type": "code",
   "execution_count": null,
   "metadata": {},
   "outputs": [],
   "source": [
    "run_and_save_results(presto,sorted_query_keys,iterations=10)"
   ]
  },
  {
   "cell_type": "markdown",
   "metadata": {},
   "source": [
    "### Benchmarking Drill "
   ]
  },
  {
   "cell_type": "code",
   "execution_count": null,
   "metadata": {},
   "outputs": [],
   "source": [
    "drill_benchmark_results=[]\n",
    "\n",
    "config_sf1_mixed = get_sources_config(scale=\"sf1\",**mixed_sources)\n",
    "config_sf1_pg = get_sources_config(scale=\"sf1\",**pg_sources)\n",
    "config_sf1_mysql = get_sources_config(scale=\"sf1\",**mysql_sources)"
   ]
  },
  {
   "cell_type": "code",
   "execution_count": null,
   "metadata": {},
   "outputs": [],
   "source": [
    "# set mempor usage to 100%\n",
    "drill.run_query(\"ALTER SYSTEM SET `planner.memory.percent_per_query` = 1.0\")"
   ]
  },
  {
   "cell_type": "code",
   "execution_count": null,
   "metadata": {},
   "outputs": [],
   "source": [
    "query_dict = render_queries(sources_config=config_sf1_mixed,queries_path=get_queries())\n",
    "run_and_save_results(drill,sorted_query_keys,iterations=10)"
   ]
  },
  {
   "cell_type": "code",
   "execution_count": null,
   "metadata": {},
   "outputs": [],
   "source": [
    "query_dict = render_queries(sources_config=config_sf1_pg,queries_path=get_queries())\n",
    "run_and_save_results(drill,sorted_query_keys[5:],iterations=10)"
   ]
  },
  {
   "cell_type": "code",
   "execution_count": null,
   "metadata": {},
   "outputs": [],
   "source": [
    "query_dict = render_queries(sources_config=config_sf1_mysql,queries_path=get_queries())\n",
    "run_and_save_results(drill,sorted_query_keys[:5],iterations=10)\n",
    "time.sleep(60)\n",
    "run_and_save_results(drill,sorted_query_keys[5:9],iterations=10)\n",
    "time.sleep(60)\n",
    "run_and_save_results(drill,sorted_query_keys[9:],iterations=10)"
   ]
  },
  {
   "cell_type": "code",
   "execution_count": 13,
   "metadata": {},
   "outputs": [
    {
     "name": "stdout",
     "output_type": "stream",
     "text": [
      "Requirement already satisfied: matplotlib in /opt/conda/lib/python3.9/site-packages (3.4.2)\n",
      "Requirement already satisfied: python-dateutil>=2.7 in /opt/conda/lib/python3.9/site-packages (from matplotlib) (2.8.1)\n",
      "Requirement already satisfied: pillow>=6.2.0 in /opt/conda/lib/python3.9/site-packages (from matplotlib) (8.2.0)\n",
      "Requirement already satisfied: cycler>=0.10 in /opt/conda/lib/python3.9/site-packages (from matplotlib) (0.10.0)\n",
      "Requirement already satisfied: kiwisolver>=1.0.1 in /opt/conda/lib/python3.9/site-packages (from matplotlib) (1.3.1)\n",
      "Requirement already satisfied: pyparsing>=2.2.1 in /opt/conda/lib/python3.9/site-packages (from matplotlib) (2.4.7)\n",
      "Requirement already satisfied: numpy>=1.16 in /opt/conda/lib/python3.9/site-packages (from matplotlib) (1.20.3)\n",
      "Requirement already satisfied: six in /opt/conda/lib/python3.9/site-packages (from cycler>=0.10->matplotlib) (1.16.0)\n",
      "Note: you may need to restart the kernel to use updated packages.\n"
     ]
    }
   ],
   "source": [
    "%pip install matplotlib"
   ]
  },
  {
   "cell_type": "code",
   "execution_count": 14,
   "metadata": {},
   "outputs": [],
   "source": [
    "presto_results = pd.read_csv(\"Presto.csv\")\n",
    "drill_results = pd.read_csv(\"Drill.csv\")"
   ]
  },
  {
   "cell_type": "code",
   "execution_count": 15,
   "metadata": {},
   "outputs": [
    {
     "data": {
      "image/png": "[encoded data removed]",
      "text/plain": [
       "<Figure size 432x288 with 1 Axes>"
      ]
     },
     "metadata": {
      "needs_background": "light"
     },
     "output_type": "display_data"
    }
   ],
   "source": [
    "import matplotlib.pyplot as plt\n",
    "import numpy as np\n",
    "labels = sorted_query_keys[:6]\n",
    "x = np.arange(len(labels))\n",
    "width = 0.35 \n",
    "fig, ax = plt.subplots()\n",
    "rects1 = ax.bar(x - width/2, presto_results.iloc[0][:6], width, label='Presto')\n",
    "rects2 = ax.bar(x + width/2, drill_results.iloc[0][:6], width, label='Drill')\n",
    "\n",
    "ax.set_ylabel('Processing time (s)')\n",
    "ax.set_title('TPC-H Queries Mixed')\n",
    "ax.set_xticks(x)\n",
    "ax.set_xticklabels(labels)\n",
    "ax.legend()\n",
    "\n",
    "fig.tight_layout()\n",
    "\n",
    "plt.show()"
   ]
  },
  {
   "cell_type": "code",
   "execution_count": 16,
   "metadata": {},
   "outputs": [
    {
     "data": {
      "image/png": "[encoded data removed]",
      "text/plain": [
       "<Figure size 432x288 with 1 Axes>"
      ]
     },
     "metadata": {
      "needs_background": "light"
     },
     "output_type": "display_data"
    }
   ],
   "source": [
    "labels = sorted_query_keys[6:]\n",
    "x = np.arange(len(labels))\n",
    "width = 0.35 \n",
    "fig, ax = plt.subplots()\n",
    "rects1 = ax.bar(x - width/2, presto_results.iloc[0][6:], width, label='Presto')\n",
    "rects2 = ax.bar(x + width/2, drill_results.iloc[0][6:], width, label='Drill')\n",
    "\n",
    "ax.set_ylabel('Processing time (s)')\n",
    "ax.set_title('TPC-H Queries Mixed')\n",
    "ax.set_xticks(x)\n",
    "ax.set_xticklabels(labels)\n",
    "ax.legend()\n",
    "\n",
    "fig.tight_layout()\n",
    "\n",
    "plt.show()"
   ]
  },
  {
   "cell_type": "code",
   "execution_count": 17,
   "metadata": {},
   "outputs": [
    {
     "data": {
      "image/png": "[encoded data removed]",
      "text/plain": [
       "<Figure size 432x288 with 1 Axes>"
      ]
     },
     "metadata": {
      "needs_background": "light"
     },
     "output_type": "display_data"
    }
   ],
   "source": [
    "labels = sorted_query_keys[:6]\n",
    "x = np.arange(len(labels))\n",
    "width = 0.35 \n",
    "fig, ax = plt.subplots()\n",
    "rects1 = ax.bar(x - width/2, presto_results.iloc[1][:6], width, label='Presto')\n",
    "rects2 = ax.bar(x + width/2, drill_results.iloc[1][:6], width, label='Drill')\n",
    "\n",
    "ax.set_ylabel('Processing time (s)')\n",
    "ax.set_title('TPC-H Queries Postgres')\n",
    "ax.set_xticks(x)\n",
    "ax.set_xticklabels(labels)\n",
    "ax.legend()\n",
    "\n",
    "fig.tight_layout()\n",
    "\n",
    "plt.show()"
   ]
  },
  {
   "cell_type": "code",
   "execution_count": 18,
   "metadata": {},
   "outputs": [
    {
     "data": {
      "image/png": "[encoded data removed]",
      "text/plain": [
       "<Figure size 432x288 with 1 Axes>"
      ]
     },
     "metadata": {
      "needs_background": "light"
     },
     "output_type": "display_data"
    }
   ],
   "source": [
    "labels = sorted_query_keys[6:]\n",
    "x = np.arange(len(labels))\n",
    "width = 0.35 \n",
    "fig, ax = plt.subplots()\n",
    "rects1 = ax.bar(x - width/2, presto_results.iloc[1][6:], width, label='Presto')\n",
    "rects2 = ax.bar(x + width/2, drill_results.iloc[1][6:], width, label='Drill')\n",
    "\n",
    "ax.set_ylabel('Processing time (s)')\n",
    "ax.set_title('TPC-H Queries Postgres')\n",
    "ax.set_xticks(x)\n",
    "ax.set_xticklabels(labels)\n",
    "ax.legend()\n",
    "\n",
    "fig.tight_layout()\n",
    "\n",
    "plt.show()"
   ]
  },
  {
   "cell_type": "code",
   "execution_count": 19,
   "metadata": {},
   "outputs": [
    {
     "data": {
      "image/png": "[encoded data removed]",
      "text/plain": [
       "<Figure size 432x288 with 1 Axes>"
      ]
     },
     "metadata": {
      "needs_background": "light"
     },
     "output_type": "display_data"
    }
   ],
   "source": [
    "labels = sorted_query_keys[6:]\n",
    "x = np.arange(len(labels))\n",
    "width = 0.35 \n",
    "fig, ax = plt.subplots()\n",
    "rects1 = ax.bar(x - width/2, presto_results.iloc[2][6:], width, label='Presto')\n",
    "rects2 = ax.bar(x + width/2, drill_results.iloc[2][6:], width, label='Drill')\n",
    "\n",
    "ax.set_ylabel('Processing time (s)')\n",
    "ax.set_title('TPC-H Queries Mysql')\n",
    "ax.set_xticks(x)\n",
    "ax.set_xticklabels(labels)\n",
    "ax.legend()\n",
    "\n",
    "fig.tight_layout()\n",
    "\n",
    "plt.show()"
   ]
  },
  {
   "cell_type": "code",
   "execution_count": 20,
   "metadata": {},
   "outputs": [
    {
     "data": {
      "image/png": "[encoded data removed]",
      "text/plain": [
       "<Figure size 432x288 with 1 Axes>"
      ]
     },
     "metadata": {
      "needs_background": "light"
     },
     "output_type": "display_data"
    }
   ],
   "source": [
    "labels = sorted_query_keys[:6]\n",
    "x = np.arange(len(labels))\n",
    "width = 0.35 \n",
    "fig, ax = plt.subplots()\n",
    "rects1 = ax.bar(x - width/2, presto_results.iloc[2][:6], width, label='Presto')\n",
    "rects2 = ax.bar(x + width/2, drill_results.iloc[2][:6], width, label='Drill')\n",
    "\n",
    "ax.set_ylabel('Processing time (s)')\n",
    "ax.set_title('TPC-H Queries Mysql')\n",
    "ax.set_xticks(x)\n",
    "ax.set_xticklabels(labels)\n",
    "ax.legend()\n",
    "\n",
    "fig.tight_layout()\n",
    "\n",
    "plt.show()"
   ]
  },
  {
   "cell_type": "code",
   "execution_count": null,
   "metadata": {},
   "outputs": [],
   "source": []
  }
 ],
 "metadata": {
  "kernelspec": {
   "display_name": "Python 3",
   "language": "python",
   "name": "python3"
  },
  "language_info": {
   "codemirror_mode": {
    "name": "ipython",
    "version": 3
   },
   "file_extension": ".py",
   "mimetype": "text/x-python",
   "name": "python",
   "nbconvert_exporter": "python",
   "pygments_lexer": "ipython3",
   "version": "3.9.2"
  }
 },
 "nbformat": 4,
 "nbformat_minor": 2
}
