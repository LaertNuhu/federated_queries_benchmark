{
 "cells": [
  {
   "cell_type": "markdown",
   "metadata": {},
   "source": [
    "## Connecting to Federated Query Executed System\n",
    "\n",
    "### Presto\n",
    "``\n",
    "conn = presto.Connection(host=\"presto\", port=8080, user=\"demo\")\n",
    "cur = conn.cursor()\n",
    "``\n",
    "### Drill\n",
    "``drill = PyDrill(host='drill', port=8047)``\n",
    "### Spark\n",
    "TODO\n",
    "### Hive\n",
    "TODO\n"
   ]
  },
  {
   "cell_type": "code",
   "execution_count": 1,
   "metadata": {},
   "outputs": [
    {
     "name": "stdout",
     "output_type": "stream",
     "text": [
      "Requirement already satisfied: pathlib in /opt/conda/lib/python3.9/site-packages (1.0.1)\n",
      "Note: you may need to restart the kernel to use updated packages.\n",
      "Requirement already satisfied: jinja2 in /opt/conda/lib/python3.9/site-packages (3.0.1)\n",
      "Requirement already satisfied: MarkupSafe>=2.0 in /opt/conda/lib/python3.9/site-packages (from jinja2) (2.0.0)\n",
      "Note: you may need to restart the kernel to use updated packages.\n"
     ]
    }
   ],
   "source": [
    "%pip install pathlib\n",
    "%pip install jinja2"
   ]
  },
  {
   "cell_type": "code",
   "execution_count": 2,
   "metadata": {},
   "outputs": [],
   "source": [
    "from pathlib import Path\n",
    "import jinja2\n",
    "import prestodb.dbapi as presto\n",
    "from pydrill.client import PyDrill\n",
    "import pandas as pd\n",
    "import time"
   ]
  },
  {
   "cell_type": "code",
   "execution_count": 3,
   "metadata": {},
   "outputs": [],
   "source": [
    "# configure sources\n",
    "def get_sources_config(scale,**kwargs):\n",
    "    \"\"\"Returns a dict with tabels maped to sources\"\"\"\n",
    "    mapped = {\n",
    "        \"lineitem\":f\"{kwargs['li_source']}.public.{kwargs['li_source'][:-1]}_{scale}_lineitem\",\n",
    "        \"orders\":f\"{kwargs['o_source']}.public.{kwargs['o_source'][:-1]}_{scale}_orders\",\n",
    "        \"customer\":f\"{kwargs['c_source']}.public.{kwargs['c_source'][:-1]}_{scale}_customer\",\n",
    "        \"part\":f\"{kwargs['pa_source']}.public.{kwargs['pa_source'][:-1]}_{scale}_part\",\n",
    "        \"supplier\":f\"{kwargs['s_source']}.public.{kwargs['s_source'][:-1]}_{scale}_supplier\",\n",
    "        \"partsupp\":f\"{kwargs['ps_source']}.public.{kwargs['ps_source'][:-1]}_{scale}_partsupp\",\n",
    "        \"nation\":f\"{kwargs['n_source']}.public.{kwargs['n_source'][:-1]}_{scale}_nation\",\n",
    "        \"region\":f\"{kwargs['r_source']}.public.{kwargs['r_source'][:-1]}_{scale}_region\"\n",
    "    }\n",
    "    return mapped"
   ]
  },
  {
   "cell_type": "code",
   "execution_count": 4,
   "metadata": {},
   "outputs": [],
   "source": [
    "def get_queries():\n",
    "    return [q for q in Path(\"./queries\").iterdir()]\n",
    "\n",
    "def render_queries(sources_config,queries_path):\n",
    "    \"\"\"Returns a dict where the key is the tpch query name and the value is the rendered query\"\"\"\n",
    "    result = {}\n",
    "    for path in queries_path:\n",
    "        key = path.name.split(\".\")[0]\n",
    "        value = jinja2.Template(path.read_text()).render(**sources_config)\n",
    "        result[key]=value\n",
    "    return result"
   ]
  },
  {
   "cell_type": "code",
   "execution_count": 5,
   "metadata": {},
   "outputs": [],
   "source": [
    "class Presto():\n",
    "    def __init__(self,host=\"presto\",port=8080,user=\"demo\"):\n",
    "        self.conn = presto.Connection(host=\"presto\", port=8080, user=\"demo\")\n",
    "        self.cur = self.conn.cursor()\n",
    "    \n",
    "    def run_query(self,sql,show=False):\n",
    "        self.cur.execute(sql)\n",
    "        result = self.cur.fetchall()\n",
    "        if show:\n",
    "            return result"
   ]
  },
  {
   "cell_type": "code",
   "execution_count": 6,
   "metadata": {},
   "outputs": [],
   "source": [
    "class Drill(PyDrill):\n",
    "    def __init__(self,**kwargs):\n",
    "        PyDrill.__init__(self, **kwargs)\n",
    "        \n",
    "    def run_query(self,sql,timeout=100000,show=False):\n",
    "        if show:\n",
    "            return self.query(sql,timeout=timeout).to_dataframe()\n",
    "        return self.query(sql,timeout=timeout)"
   ]
  },
  {
   "cell_type": "code",
   "execution_count": 7,
   "metadata": {},
   "outputs": [],
   "source": [
    "drill = Drill(host='drill', port=8047)\n",
    "\n",
    "if not drill.is_active():\n",
    "    raise ValueError('Please run Drill first')\n",
    "\n",
    "presto = Presto()"
   ]
  },
  {
   "cell_type": "markdown",
   "metadata": {},
   "source": [
    "# Benchmark"
   ]
  },
  {
   "cell_type": "code",
   "execution_count": 8,
   "metadata": {},
   "outputs": [],
   "source": [
    "def benchmark(system,query,iterations=1):\n",
    "    sum = 0\n",
    "    count = 0\n",
    "    for _ in range(iterations):\n",
    "        count = count + 1\n",
    "        start = time.time()\n",
    "        system.run_query(query)\n",
    "        end = time.time()\n",
    "        sum = sum + (end - start)\n",
    "    return sum/count"
   ]
  },
  {
   "cell_type": "code",
   "execution_count": 9,
   "metadata": {},
   "outputs": [],
   "source": [
    "mixed_sources={\n",
    "    \"li_source\":\"pg1\",\n",
    "    \"o_source\":\"mysql1\",\n",
    "    \"c_source\":\"pg3\",\n",
    "    \"pa_source\":\"pg4\",\n",
    "    \"s_source\":\"mysql1\",\n",
    "    \"ps_source\":\"mysql2\",\n",
    "    \"n_source\":\"pg3\",\n",
    "    \"r_source\":\"pg4\",\n",
    "}\n",
    "config_sf1_mixed = get_sources_config(scale=\"sf1\",**mixed_sources)\n",
    "query_dict = render_queries(sources_config=config_sf1_mixed,queries_path=get_queries())"
   ]
  },
  {
   "cell_type": "code",
   "execution_count": 10,
   "metadata": {},
   "outputs": [],
   "source": [
    "# q2, q9, q11 -> cannot run as ps_supplycost column by partsupp is not shown by presto\n",
    "presto_benchmark_results=[]"
   ]
  },
  {
   "cell_type": "code",
   "execution_count": 11,
   "metadata": {},
   "outputs": [],
   "source": [
    "presto_benchmark_results.append(benchmark(presto,query_dict[\"q1\"],iterations=10))"
   ]
  },
  {
   "cell_type": "code",
   "execution_count": 12,
   "metadata": {},
   "outputs": [],
   "source": [
    "presto_benchmark_results.append(benchmark(presto,query_dict[\"q2\"],iterations=10))"
   ]
  },
  {
   "cell_type": "code",
   "execution_count": 13,
   "metadata": {},
   "outputs": [],
   "source": [
    "presto_benchmark_results.append(benchmark(presto,query_dict[\"q3\"],iterations=10))"
   ]
  },
  {
   "cell_type": "code",
   "execution_count": 14,
   "metadata": {},
   "outputs": [],
   "source": [
    "presto_benchmark_results.append(benchmark(presto,query_dict[\"q4\"],iterations=10))"
   ]
  },
  {
   "cell_type": "code",
   "execution_count": 15,
   "metadata": {},
   "outputs": [],
   "source": [
    "presto_benchmark_results.append(benchmark(presto,query_dict[\"q5\"],iterations=10))"
   ]
  },
  {
   "cell_type": "code",
   "execution_count": 16,
   "metadata": {},
   "outputs": [],
   "source": [
    "drill_benchmark_results=[]"
   ]
  },
  {
   "cell_type": "code",
   "execution_count": 17,
   "metadata": {},
   "outputs": [],
   "source": [
    "drill_benchmark_results.append(benchmark(drill,query_dict[\"q1\"],iterations=10))\n",
    "# planning stage takes some time for the first run. then some kind of caching is happening.\n",
    "# check for plan differences"
   ]
  },
  {
   "cell_type": "code",
   "execution_count": 22,
   "metadata": {},
   "outputs": [],
   "source": [
    "drill_benchmark_results.append(benchmark(drill,query_dict[\"q2\"],iterations=10))\n",
    "# changed planner.memory.max_query_memory_per_node at options to max: 5900000000"
   ]
  },
  {
   "cell_type": "code",
   "execution_count": 23,
   "metadata": {},
   "outputs": [],
   "source": [
    "drill_benchmark_results.append(benchmark(drill,query_dict[\"q3\"],iterations=10))"
   ]
  },
  {
   "cell_type": "code",
   "execution_count": 24,
   "metadata": {},
   "outputs": [],
   "source": [
    "drill_benchmark_results.append(benchmark(drill,query_dict[\"q4\"],iterations=10))"
   ]
  },
  {
   "cell_type": "code",
   "execution_count": 26,
   "metadata": {},
   "outputs": [],
   "source": [
    "# drill_benchmark_results.append(benchmark(drill,query_dict[\"q5\"],iterations=10))\n",
    "# query took 13 min to run -> had to manually stop it\n",
    "# next iteration throws: \"RESOURCE ERROR: There is not enough heap memory to run this query using the web interface.\n",
    "# I can raise the heap memory further on, but the query should's take longer than 2 min. \n",
    "drill_benchmark_results.append(0)"
   ]
  },
  {
   "cell_type": "code",
   "execution_count": null,
   "metadata": {},
   "outputs": [],
   "source": [
    "pg_sources={\n",
    "    \"li_source\":\"pg1\",\n",
    "    \"o_source\":\"mysql1\",\n",
    "    \"c_source\":\"pg3\",\n",
    "    \"pa_source\":\"pg4\",\n",
    "    \"s_source\":\"mysql1\",\n",
    "    \"ps_source\":\"mysql2\",\n",
    "    \"n_source\":\"pg3\",\n",
    "    \"r_source\":\"pg4\",\n",
    "}\n",
    "config_pg_mixed = get_sources_config(scale=\"sf1\",**pg_sources)\n",
    "query_dict = render_queries(sources_config=config_pg_mixed,queries_path=get_queries())"
   ]
  },
  {
   "cell_type": "code",
   "execution_count": null,
   "metadata": {},
   "outputs": [],
   "source": [
    "mysql_sources={\n",
    "    \"li_source\":\"pg1\",\n",
    "    \"o_source\":\"mysql1\",\n",
    "    \"c_source\":\"pg3\",\n",
    "    \"pa_source\":\"pg4\",\n",
    "    \"s_source\":\"mysql1\",\n",
    "    \"ps_source\":\"mysql2\",\n",
    "    \"n_source\":\"pg3\",\n",
    "    \"r_source\":\"pg4\",\n",
    "}\n",
    "config_mysql_mixed = get_sources_config(scale=\"sf1\",**mysql_sources)\n",
    "query_dict = render_queries(sources_config=config_mysql_mixed,queries_path=get_queries())"
   ]
  },
  {
   "cell_type": "code",
   "execution_count": 27,
   "metadata": {},
   "outputs": [
    {
     "name": "stdout",
     "output_type": "stream",
     "text": [
      "Requirement already satisfied: matplotlib in /opt/conda/lib/python3.9/site-packages (3.4.2)\n",
      "Requirement already satisfied: cycler>=0.10 in /opt/conda/lib/python3.9/site-packages (from matplotlib) (0.10.0)\n",
      "Requirement already satisfied: python-dateutil>=2.7 in /opt/conda/lib/python3.9/site-packages (from matplotlib) (2.8.1)\n",
      "Requirement already satisfied: numpy>=1.16 in /opt/conda/lib/python3.9/site-packages (from matplotlib) (1.20.2)\n",
      "Requirement already satisfied: pyparsing>=2.2.1 in /opt/conda/lib/python3.9/site-packages (from matplotlib) (2.4.7)\n",
      "Requirement already satisfied: kiwisolver>=1.0.1 in /opt/conda/lib/python3.9/site-packages (from matplotlib) (1.3.1)\n",
      "Requirement already satisfied: pillow>=6.2.0 in /opt/conda/lib/python3.9/site-packages (from matplotlib) (8.2.0)\n",
      "Requirement already satisfied: six in /opt/conda/lib/python3.9/site-packages (from cycler>=0.10->matplotlib) (1.16.0)\n",
      "Note: you may need to restart the kernel to use updated packages.\n"
     ]
    }
   ],
   "source": [
    "%pip install matplotlib"
   ]
  },
  {
   "cell_type": "code",
   "execution_count": 28,
   "metadata": {},
   "outputs": [
    {
     "data": {
      "image/png": "[encoded data removed]",
      "text/plain": [
       "<Figure size 432x288 with 1 Axes>"
      ]
     },
     "metadata": {
      "needs_background": "light"
     },
     "output_type": "display_data"
    }
   ],
   "source": [
    "import matplotlib.pyplot as plt\n",
    "import numpy as np\n",
    "labels = [\"q1\",\"q3\",\"q4\",\"q5\",\"q7\"]\n",
    "x = np.arange(len(labels))\n",
    "width = 0.35 \n",
    "fig, ax = plt.subplots()\n",
    "rects1 = ax.bar(x - width/2, presto_benchmark_results, width, label='Presto')\n",
    "rects2 = ax.bar(x + width/2, drill_benchmark_results, width, label='Drill')\n",
    "\n",
    "ax.set_ylabel('Processing time (s)')\n",
    "ax.set_title('TPC-H Queries')\n",
    "ax.set_xticks(x)\n",
    "ax.set_xticklabels(labels)\n",
    "ax.legend()\n",
    "\n",
    "fig.tight_layout()\n",
    "\n",
    "plt.show()"
   ]
  },
  {
   "cell_type": "markdown",
   "metadata": {},
   "source": [
    "## Create a Table in MySQL\n",
    "\n",
    "Let's use the MySQL client to create the table. Then we will switch to Presto to manipulate the data:"
   ]
  },
  {
   "cell_type": "code",
   "execution_count": null,
   "metadata": {},
   "outputs": [],
   "source": [
    "# import MySQLdb\n",
    "\n",
    "# mysql = MySQLdb.connect(host=\"mysql\", user=\"root\", passwd=\"mysql\")\n",
    "# cur = mysql.cursor()\n",
    "# cur.execute(\"CREATE DATABASE IF NOT EXISTS presto\")\n",
    "# cur.fetchall()\n",
    "# cur.execute(\"\"\"\n",
    "#     CREATE TABLE IF NOT EXISTS presto.events (event LONGTEXT)\n",
    "#     CHARSET utf8mb4 ENGINE=InnoDB\n",
    "# \"\"\")\n",
    "# cur.fetchall()\n",
    "# cur.execute(\"DESC presto.events\")\n",
    "# for row in cur.fetchall():\n",
    "#     print(\"{table}: [{props}]\".format(\n",
    "#         table=row[0],\n",
    "#         props=', '.join(str(i) for i in row[1:])))"
   ]
  },
  {
   "cell_type": "markdown",
   "metadata": {},
   "source": [
    "## Load Data in MySQL\n",
    "\n",
    "Let's now load data from [GH Archive](http://www.gharchive.org/) into MySQL and MongoDB.\n",
    "Each file from GH Archive contains lines of JSON structs that represent events from the public GitHub timeline, for example repository creation or code push.\n",
    "\n",
    "Now that the table is create in MySQL, we can insert rows with Presto by using the existing `conn` object created above. You can open http://localhost:8080 to see the execution Presto queries."
   ]
  },
  {
   "cell_type": "code",
   "execution_count": null,
   "metadata": {},
   "outputs": [],
   "source": [
    "# import gzip\n",
    "# import io\n",
    "# import json\n",
    "# import re\n",
    "# import requests\n",
    "\n",
    "# # Load events happening between 4-5pm.\n",
    "# # Feel free to load more hours or more days.\n",
    "# # We limit the dataset to one hour here to not overload\n",
    "# # the machine that will run the queries as this tutorial\n",
    "# # is expected to run on a laptop.\n",
    "# # It is going to take some time. For the demo, i pre-loaded\n",
    "# # the data with the mysql client to avoid the overhead of creating\n",
    "# # Python objects.\n",
    "# zdata = requests.get(\"https://data.gharchive.org/2015-04-28-16.json.gz\")\n",
    "# data = gzip.decompress(zdata.content)\n",
    "# rows = []\n",
    "\n",
    "# # load ``ROW_COUNT`` rows. Feel free to set a greater value if it\n",
    "# # works well in your environment. Using a small value on purpose\n",
    "# # to avoid loading data for a long time.\n",
    "# ROW_COUNT = 1000\n",
    "# cur = conn.cursor()\n",
    "# for n, line in enumerate(io.BytesIO(data)):\n",
    "#     row = line.strip().decode('utf8')\n",
    "#     sql = \"INSERT INTO mysql.presto.events (event) VALUES ('{}')\".format(row.replace(\"'\", \"''\"))\n",
    "#     cur.execute(sql)\n",
    "#     cur.fetchall()\n",
    "#     if n == ROW_COUNT - 1:\n",
    "#         break"
   ]
  },
  {
   "cell_type": "code",
   "execution_count": null,
   "metadata": {},
   "outputs": [],
   "source": [
    "# cur = conn.cursor()\n",
    "# cur.execute(\"SELECT json_extract(json_parse(event), '$.type') FROM mysql.presto.events TABLESAMPLE BERNOULLI (1) LIMIT 1\")\n",
    "# cur.fetchall()"
   ]
  },
  {
   "cell_type": "code",
   "execution_count": null,
   "metadata": {},
   "outputs": [],
   "source": [
    "# cur = conn.cursor()\n",
    "# cur.execute(\"\"\"\n",
    "#     SELECT ev_type, repo_name, count(*) FROM (\n",
    "#       SELECT\n",
    "#         TRY(json_extract_scalar(ev, '$.repo.name')) as repo_name,\n",
    "#         TRY(json_extract_scalar(ev, '$.type')) as ev_type FROM (\n",
    "#           SELECT try(json_parse(event)) as ev FROM mysql.presto.events))\n",
    "#     WHERE repo_name is not null and ev_type = 'PushEvent'\n",
    "#     GROUP BY ev_type, repo_name\n",
    "#     ORDER BY 3 DESC\n",
    "#     LIMIT 10\n",
    "# \"\"\")\n",
    "# rows = cur.fetchall()\n",
    "# import pandas as pd\n",
    "# from IPython.display import display\n",
    "\n",
    "# print(rows)\n",
    "# df = pd.DataFrame(sorted(rows, key=lambda x: x[2], reverse=True))\n",
    "# display(df)"
   ]
  },
  {
   "cell_type": "code",
   "execution_count": null,
   "metadata": {},
   "outputs": [],
   "source": [
    "# cur = conn.cursor()\n",
    "# cur.execute(\"CREATE TABLE mongodb.events.all AS SELECT * FROM mysql.presto.events\")\n",
    "# cur.fetchall()"
   ]
  }
 ],
 "metadata": {
  "kernelspec": {
   "display_name": "Python 3",
   "language": "python",
   "name": "python3"
  },
  "language_info": {
   "codemirror_mode": {
    "name": "ipython",
    "version": 3
   },
   "file_extension": ".py",
   "mimetype": "text/x-python",
   "name": "python",
   "nbconvert_exporter": "python",
   "pygments_lexer": "ipython3",
   "version": "3.9.2"
  }
 },
 "nbformat": 4,
 "nbformat_minor": 2
}
